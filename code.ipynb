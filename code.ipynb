{
  "nbformat": 4,
  "nbformat_minor": 0,
  "metadata": {
    "accelerator": "GPU",
    "colab": {
      "name": "Final CS_772_Assignment_Phase_3.ipynb",
      "provenance": [],
      "collapsed_sections": [
        "jN5i-YL1dNqz",
        "nuyriDkqT_Sz",
        "fEC0XB9cUQfA",
        "1vS9WexsUVPZ",
        "NFdxrcfdUldJ",
        "5acwKNQush5r",
        "Kk27jNkTsdjO",
        "okIK0SwVtYYR",
        "c8vcLmW9rnvA",
        "5aEK7Ws9reKL",
        "WYAsfvY5reKR",
        "7T6uCRfRreKd",
        "FAAQ8UiJreKi",
        "MaNBH_r4UcRE",
        "cXdVILD7b9gr",
        "kNFlkgEPcE7z",
        "jmCPQLwncOqL",
        "Cj7uViOAP8nZ",
        "uiB2cRSVQlZg",
        "DyY0ZJ_U9XV5",
        "RmxT71tvjYyw",
        "ffNSrm9rt2kA"
      ]
    },
    "kernelspec": {
      "display_name": "Python 3",
      "language": "python",
      "name": "python3"
    },
    "language_info": {
      "codemirror_mode": {
        "name": "ipython",
        "version": 3
      },
      "file_extension": ".py",
      "mimetype": "text/x-python",
      "name": "python",
      "nbconvert_exporter": "python",
      "pygments_lexer": "ipython3",
      "version": "3.8.5"
    }
  },
  "cells": [
    {
      "cell_type": "markdown",
      "metadata": {
        "id": "jN5i-YL1dNqz"
      },
      "source": [
        "#### Install python packages"
      ]
    },
    {
      "cell_type": "code",
      "metadata": {
        "colab": {
          "base_uri": "https://localhost:8080/"
        },
        "id": "n-6Y9V3GOPQq",
        "outputId": "9c0a42f8-940b-4328-dfcc-290d04ea15be"
      },
      "source": [
        "!pip install PyDrive\n",
        "!pip install --upgrade keras"
      ],
      "execution_count": 1,
      "outputs": [
        {
          "output_type": "stream",
          "text": [
            "Requirement already satisfied: PyDrive in /usr/local/lib/python3.7/dist-packages (1.3.1)\n",
            "Requirement already satisfied: PyYAML>=3.0 in /usr/local/lib/python3.7/dist-packages (from PyDrive) (3.13)\n",
            "Requirement already satisfied: oauth2client>=4.0.0 in /usr/local/lib/python3.7/dist-packages (from PyDrive) (4.1.3)\n",
            "Requirement already satisfied: google-api-python-client>=1.2 in /usr/local/lib/python3.7/dist-packages (from PyDrive) (1.12.8)\n",
            "Requirement already satisfied: pyasn1>=0.1.7 in /usr/local/lib/python3.7/dist-packages (from oauth2client>=4.0.0->PyDrive) (0.4.8)\n",
            "Requirement already satisfied: httplib2>=0.9.1 in /usr/local/lib/python3.7/dist-packages (from oauth2client>=4.0.0->PyDrive) (0.17.4)\n",
            "Requirement already satisfied: pyasn1-modules>=0.0.5 in /usr/local/lib/python3.7/dist-packages (from oauth2client>=4.0.0->PyDrive) (0.2.8)\n",
            "Requirement already satisfied: six>=1.6.1 in /usr/local/lib/python3.7/dist-packages (from oauth2client>=4.0.0->PyDrive) (1.15.0)\n",
            "Requirement already satisfied: rsa>=3.1.4 in /usr/local/lib/python3.7/dist-packages (from oauth2client>=4.0.0->PyDrive) (4.7.2)\n",
            "Requirement already satisfied: google-api-core<2dev,>=1.21.0 in /usr/local/lib/python3.7/dist-packages (from google-api-python-client>=1.2->PyDrive) (1.26.2)\n",
            "Requirement already satisfied: uritemplate<4dev,>=3.0.0 in /usr/local/lib/python3.7/dist-packages (from google-api-python-client>=1.2->PyDrive) (3.0.1)\n",
            "Requirement already satisfied: google-auth>=1.16.0 in /usr/local/lib/python3.7/dist-packages (from google-api-python-client>=1.2->PyDrive) (1.28.0)\n",
            "Requirement already satisfied: google-auth-httplib2>=0.0.3 in /usr/local/lib/python3.7/dist-packages (from google-api-python-client>=1.2->PyDrive) (0.0.4)\n",
            "Requirement already satisfied: packaging>=14.3 in /usr/local/lib/python3.7/dist-packages (from google-api-core<2dev,>=1.21.0->google-api-python-client>=1.2->PyDrive) (20.9)\n",
            "Requirement already satisfied: requests<3.0.0dev,>=2.18.0 in /usr/local/lib/python3.7/dist-packages (from google-api-core<2dev,>=1.21.0->google-api-python-client>=1.2->PyDrive) (2.23.0)\n",
            "Requirement already satisfied: googleapis-common-protos<2.0dev,>=1.6.0 in /usr/local/lib/python3.7/dist-packages (from google-api-core<2dev,>=1.21.0->google-api-python-client>=1.2->PyDrive) (1.53.0)\n",
            "Requirement already satisfied: protobuf>=3.12.0 in /usr/local/lib/python3.7/dist-packages (from google-api-core<2dev,>=1.21.0->google-api-python-client>=1.2->PyDrive) (3.12.4)\n",
            "Requirement already satisfied: pytz in /usr/local/lib/python3.7/dist-packages (from google-api-core<2dev,>=1.21.0->google-api-python-client>=1.2->PyDrive) (2018.9)\n",
            "Requirement already satisfied: setuptools>=40.3.0 in /usr/local/lib/python3.7/dist-packages (from google-api-core<2dev,>=1.21.0->google-api-python-client>=1.2->PyDrive) (54.2.0)\n",
            "Requirement already satisfied: cachetools<5.0,>=2.0.0 in /usr/local/lib/python3.7/dist-packages (from google-auth>=1.16.0->google-api-python-client>=1.2->PyDrive) (4.2.1)\n",
            "Requirement already satisfied: pyparsing>=2.0.2 in /usr/local/lib/python3.7/dist-packages (from packaging>=14.3->google-api-core<2dev,>=1.21.0->google-api-python-client>=1.2->PyDrive) (2.4.7)\n",
            "Requirement already satisfied: certifi>=2017.4.17 in /usr/local/lib/python3.7/dist-packages (from requests<3.0.0dev,>=2.18.0->google-api-core<2dev,>=1.21.0->google-api-python-client>=1.2->PyDrive) (2020.12.5)\n",
            "Requirement already satisfied: urllib3!=1.25.0,!=1.25.1,<1.26,>=1.21.1 in /usr/local/lib/python3.7/dist-packages (from requests<3.0.0dev,>=2.18.0->google-api-core<2dev,>=1.21.0->google-api-python-client>=1.2->PyDrive) (1.24.3)\n",
            "Requirement already satisfied: chardet<4,>=3.0.2 in /usr/local/lib/python3.7/dist-packages (from requests<3.0.0dev,>=2.18.0->google-api-core<2dev,>=1.21.0->google-api-python-client>=1.2->PyDrive) (3.0.4)\n",
            "Requirement already satisfied: idna<3,>=2.5 in /usr/local/lib/python3.7/dist-packages (from requests<3.0.0dev,>=2.18.0->google-api-core<2dev,>=1.21.0->google-api-python-client>=1.2->PyDrive) (2.10)\n",
            "Requirement already up-to-date: keras in /usr/local/lib/python3.7/dist-packages (2.4.3)\n",
            "Requirement already satisfied, skipping upgrade: h5py in /usr/local/lib/python3.7/dist-packages (from keras) (2.10.0)\n",
            "Requirement already satisfied, skipping upgrade: pyyaml in /usr/local/lib/python3.7/dist-packages (from keras) (3.13)\n",
            "Requirement already satisfied, skipping upgrade: numpy>=1.9.1 in /usr/local/lib/python3.7/dist-packages (from keras) (1.19.5)\n",
            "Requirement already satisfied, skipping upgrade: scipy>=0.14 in /usr/local/lib/python3.7/dist-packages (from keras) (1.4.1)\n",
            "Requirement already satisfied, skipping upgrade: six in /usr/local/lib/python3.7/dist-packages (from h5py->keras) (1.15.0)\n"
          ],
          "name": "stdout"
        }
      ]
    },
    {
      "cell_type": "markdown",
      "metadata": {
        "id": "nuyriDkqT_Sz"
      },
      "source": [
        "#### To access pre-trained embeddings and dataset (train and test)"
      ]
    },
    {
      "cell_type": "code",
      "metadata": {
        "id": "f068QkbOOpUC"
      },
      "source": [
        "from pydrive.auth import GoogleAuth\n",
        "from pydrive.drive import GoogleDrive\n",
        "from google.colab import auth\n",
        "from oauth2client.client import GoogleCredentials\n",
        "\n",
        "auth.authenticate_user()\n",
        "gauth = GoogleAuth()\n",
        "gauth.credentials = GoogleCredentials.get_application_default()\n",
        "drive = GoogleDrive(gauth)"
      ],
      "execution_count": 2,
      "outputs": []
    },
    {
      "cell_type": "code",
      "metadata": {
        "id": "CaTLfxpojIRU"
      },
      "source": [
        "\n",
        "download = drive.CreateFile({'id':'1gVExcJs31_mHWFGNvH3YpXBnS-A_XurA'})   # replace the id with id of file you want to access\n",
        "download.GetContentFile('train.csv')        # replace the file name with your file\n",
        "\n",
        "download = drive.CreateFile({'id':'13Nc1ZZaJD7_kBup22ScZYXmxAYNg1TOT'})   # replace the id with id of file you want to access\n",
        "download.GetContentFile('test.csv')        # replace the file name with your file\n",
        "\n",
        "download = drive.CreateFile({'id':'1xyw2FyO1RTOAK-h7V3PYF_Sxmn8ho5jh'})   # replace the id with id of file you want to access\n",
        "download.GetContentFile('gold_test.csv')        # replace the file name with your file\n"
      ],
      "execution_count": 3,
      "outputs": []
    },
    {
      "cell_type": "code",
      "metadata": {
        "id": "zqlJ5Ym0jFlV"
      },
      "source": [
        "\n",
        "downloaded = drive.CreateFile({'id':'1GH7dGh9ftQikz8KIDedxBooBzX_qw0zW'})   # replace the id with id of file you want to access\n",
        "downloaded.GetContentFile('glove.6B.100d.txt')        # replace the file name with your file\n",
        "\n",
        "download = drive.CreateFile({'id':'1daXpP2rI4YDUHwl4I-kDolS9JfoTY_r4'})   # replace the id with id of file you want to access\n",
        "download.GetContentFile('glove.6B.200d.txt')        # replace the file name with your file\n",
        "\n",
        "download = drive.CreateFile({'id':'15IB-nj1e-E6B9PRpJslkB1RMBEtiCA6l'})   # replace the id with id of file you want to access\n",
        "download.GetContentFile('glove.6B.300d.txt')        # replace the file name with your file\n",
        "\n",
        "download = drive.CreateFile({'id':'1rH_EvmtKprvULcKj5ARNI3r3p6K9EGwO'})   # replace the id with id of file you want to access\n",
        "download.GetContentFile('wiki-news-300d-1M.vec')        # replace the file name with your file\n",
        "\n",
        "download = drive.CreateFile({'id':'1mPXuUDiPAPid2nGjnhUQIzn8Qz-nHp6V'})   # replace the id with id of file you want to access\n",
        "download.GetContentFile('GoogleNews-vectors-negative300.bin')        # replace the file name with your file"
      ],
      "execution_count": 17,
      "outputs": []
    },
    {
      "cell_type": "markdown",
      "metadata": {
        "id": "fEC0XB9cUQfA"
      },
      "source": [
        "#### Header files"
      ]
    },
    {
      "cell_type": "code",
      "metadata": {
        "colab": {
          "base_uri": "https://localhost:8080/"
        },
        "id": "r5NmV1ciOT0h",
        "outputId": "3438bc68-4136-4ba6-9656-3bdd331f573c"
      },
      "source": [
        "import pandas as pd\n",
        "import numpy as np\n",
        "import string\n",
        "import nltk\n",
        "from nltk.corpus import stopwords\n",
        "import tensorflow as tf\n",
        "from tensorflow.keras.preprocessing.text import Tokenizer\n",
        "from tensorflow.keras.preprocessing.text import one_hot\n",
        "from tensorflow.keras.preprocessing.sequence import pad_sequences\n",
        "from tensorflow.keras import Sequential\n",
        "from tensorflow.keras.layers import Dense, Dropout, Activation, Flatten, SimpleRNN, LSTM, Bidirectional, GRU\n",
        "from sklearn import datasets, model_selection, metrics\n",
        "from keras.layers.embeddings import Embedding\n",
        "from keras.initializers import Constant\n",
        "from nltk.tokenize import word_tokenize\n",
        "from sklearn.model_selection import train_test_split \n",
        "nltk.download('stopwords')\n",
        "stopword = stopwords.words('english') \n",
        "nltk.download('punkt')"
      ],
      "execution_count": 5,
      "outputs": [
        {
          "output_type": "stream",
          "text": [
            "[nltk_data] Downloading package stopwords to /root/nltk_data...\n",
            "[nltk_data]   Unzipping corpora/stopwords.zip.\n",
            "[nltk_data] Downloading package punkt to /root/nltk_data...\n",
            "[nltk_data]   Unzipping tokenizers/punkt.zip.\n"
          ],
          "name": "stdout"
        },
        {
          "output_type": "execute_result",
          "data": {
            "text/plain": [
              "True"
            ]
          },
          "metadata": {
            "tags": []
          },
          "execution_count": 5
        }
      ]
    },
    {
      "cell_type": "markdown",
      "metadata": {
        "id": "1vS9WexsUVPZ"
      },
      "source": [
        "#### Preprocessing function"
      ]
    },
    {
      "cell_type": "code",
      "metadata": {
        "id": "wsu00ZJwPCb5"
      },
      "source": [
        "def encode_data(tokenizer, text, tokens, preprocessing_training_data = False):\n",
        "    # This function will be used to encode the reviews using a dictionary (created using corpus vocabulary) \n",
        "\n",
        "    # Example of encoding :\"The food was fabulous but pricey\" has a vocabulary of 4 words, each one has to be mapped to an integer like: \n",
        "    # {'The':1,'food':2,'was':3 'fabulous':4 'but':5 'pricey':6} this vocabulary has to be created for the entire corpus and then be used to \n",
        "    # encode the words into integers \n",
        "\n",
        "    # return encoded examples\n",
        "    if preprocessing_training_data:\n",
        "        tokenizer = Tokenizer(oov_token = '<oov>')\n",
        "        tokenizer.fit_on_texts(tokens)\n",
        "\n",
        "    sequences = tokenizer.texts_to_sequences(text)\n",
        "    return sequences, tokenizer\n",
        "\n",
        "def convert_to_lower(text):\n",
        "    # return the reviews after convering then to lowercase\n",
        "    lower_text = text.lower()\n",
        "    return lower_text\n",
        "\n",
        "def perform_tokenization(text):\n",
        "    # return the reviews after performing tokenization\n",
        "    token=nltk.word_tokenize(text)\n",
        "    return token\n",
        "\n",
        "def remove_stopwords(text):\n",
        "    # return the reviews after removing the stopwords\n",
        "    stopword = [] # not any stopword\n",
        "    removing_stopwords=[word for word in text if word not in stopword]\n",
        "    return removing_stopwords\n",
        "\n",
        "def remove_punctuation(text):\n",
        "    # return the reviews after removing punctuations\n",
        "    removing_punctuation = [word for word in text if word.isalpha()]\n",
        "    return removing_punctuation\n",
        "\n",
        "def perform_padding(data, maxlen):\n",
        "    # return the reviews after padding the reviews to maximum length\n",
        "    padded_data = pad_sequences(data, maxlen=maxlen, padding='post')\n",
        "    return padded_data\n",
        "\n",
        "def preprocess_data(tokenizer, data, preprocessing_training_data=False, maxlen=None):\n",
        "    # make all the following function calls on your data\n",
        "    # EXAMPLE:->\n",
        "    '''\n",
        "    review = data[\"reviews\"]\n",
        "    review = convert_to_lower(review)\n",
        "    review = remove_punctuation(review)\n",
        "    review = remove_stopwords(review)\n",
        "    review = perform_tokenization(review)\n",
        "    review = encode_data(review)\n",
        "    review = perform_padding(review)\n",
        "    '''\n",
        "    # return processed data\n",
        "\n",
        "    reviews = data[\"reviews\"]\n",
        "    list_of_reviews = list(reviews)\n",
        "    string_of_reviews = ' '.join(str(e) for e in list_of_reviews)\n",
        "\n",
        "    lower_text = convert_to_lower(string_of_reviews)\n",
        "    tokens = perform_tokenization(lower_text)\n",
        "    tokens = remove_stopwords(tokens)\n",
        "    tokens = remove_punctuation(tokens)\n",
        "    encoded_data, tokenizer = encode_data(tokenizer, reviews, tokens, preprocessing_training_data)\n",
        "    reviews = perform_padding(encoded_data, maxlen)\n",
        "\n",
        "    return pd.DataFrame(reviews), tokenizer"
      ],
      "execution_count": 6,
      "outputs": []
    },
    {
      "cell_type": "markdown",
      "metadata": {
        "id": "NFdxrcfdUldJ"
      },
      "source": [
        "### Define Models (with pre-trained embedding layer)"
      ]
    },
    {
      "cell_type": "markdown",
      "metadata": {
        "id": "5acwKNQush5r"
      },
      "source": [
        "#### Feed Forward Neural Network "
      ]
    },
    {
      "cell_type": "code",
      "metadata": {
        "id": "yTu0_OclPIol"
      },
      "source": [
        "def softmax_activation(x):\n",
        "    # write your own implementation from scratch and return softmax values(using predefined softmax is prohibited)\n",
        "    Exponent_calculation=tf.exp(x-tf.reduce_max(x,axis=-1,keepdims=True))\n",
        "    Normalization=tf.reduce_sum(Exponent_calculation,axis=-1,keepdims=True)\n",
        "    return Exponent_calculation/Normalization\n",
        "    \n",
        "\n",
        "class NeuralNet:\n",
        "\n",
        "    def __init__(self, reviews, ratings,e):\n",
        "        self.reviews = reviews\n",
        "        self.ratings = ratings\n",
        "        self.e = e\n",
        "    def build_nn(self):\n",
        "        #add the input and output layer here; you can use either tensorflow or pytorch\n",
        "        self.model = Sequential()\n",
        "        print(\"Reviews Shape: \", self.reviews.shape)\n",
        "        print(\"Ratings Shape: \", self.ratings.shape)\n",
        "        self.model.add(e)\n",
        "        self.model.add(Flatten())\n",
        "        #self.model.add(Dense(5  , activation=\"relu\" ))\n",
        "        #self.model.add(Dense(32, activation='sigmoid'))\n",
        "        self.model.add(Dense(5))\n",
        "        self.model.add(Activation(softmax_activation, name='Softmax'))\n",
        "\n",
        "        self.model.compile(optimizer='adam', loss='categorical_crossentropy', metrics=['accuracy'])\n",
        "       \n",
        "    def train_nn(self,batch_size,epochs, ):\n",
        "        # write the training loop here; you can use either tensorflow or pytorch\n",
        "        # print validation accuracy\n",
        "        self.model.fit(self.reviews, self.ratings, epochs=epochs, batch_size=batch_size, verbose=1)\n",
        "\n",
        "    def predict(self, reviews):\n",
        "        # return a list containing all the ratings predicted by the trained model\n",
        "        predicted = self.model.predict(reviews)\n",
        "        return predicted"
      ],
      "execution_count": 7,
      "outputs": []
    },
    {
      "cell_type": "markdown",
      "metadata": {
        "id": "Kk27jNkTsdjO"
      },
      "source": [
        "#### LSTM"
      ]
    },
    {
      "cell_type": "code",
      "metadata": {
        "id": "ARyYGVmWsYaw"
      },
      "source": [
        "def softmax_activation(x):\n",
        "    # write your own implementation from scratch and return softmax values(using predefined softmax is prohibited)\n",
        "    Exponent_calculation=tf.exp(x-tf.reduce_max(x,axis=-1,keepdims=True))\n",
        "    Normalization=tf.reduce_sum(Exponent_calculation,axis=-1,keepdims=True)\n",
        "    return Exponent_calculation/Normalization\n",
        "    \n",
        "    \n",
        "class LSTMNet:\n",
        "\n",
        "    def __init__(self, reviews, ratings, e):\n",
        "        self.reviews = reviews\n",
        "        self.ratings = ratings\n",
        "        self.e = e\n",
        "    def build_nn(self):\n",
        "        #add the input and output layer here; you can use either tensorflow or pytorch\n",
        "        self.model = Sequential()\n",
        "        print(\"Reviews Shape: \", self.reviews.shape)\n",
        "        print(\"Ratings Shape: \", self.ratings.shape)\n",
        "        self.model.add(self.e)\n",
        "        # self.model.add(Flatten())\n",
        "        self.model.add(LSTM(128))\n",
        "        #self.model.add(Dense(5  , activation=\"relu\" ))\n",
        "        #self.model.add(Dense(32, activation='sigmoid'))\n",
        "        self.model.add(Dense(5))\n",
        "        self.model.add(Activation(softmax_activation, name='Softmax'))\n",
        "\n",
        "        self.model.compile(optimizer='adam', loss='categorical_crossentropy', metrics=['accuracy'])\n",
        "        print(self.model.summary())\n",
        "       \n",
        "    def train_nn(self,batch_size,epochs, ):\n",
        "        # write the training loop here; you can use either tensorflow or pytorch\n",
        "        # print validation accuracy\n",
        "        self.model.fit(self.reviews, self.ratings, epochs=epochs, batch_size=batch_size, verbose=1)\n",
        "\n",
        "    def predict(self, reviews):\n",
        "        # return a list containing all the ratings predicted by the trained model\n",
        "        predicted = self.model.predict(reviews)\n",
        "        return predicted"
      ],
      "execution_count": 8,
      "outputs": []
    },
    {
      "cell_type": "markdown",
      "metadata": {
        "id": "iDxdrd4F43Bp"
      },
      "source": [
        "#### Bi-LSTM"
      ]
    },
    {
      "cell_type": "code",
      "metadata": {
        "id": "F6Ak0BZ-48o_"
      },
      "source": [
        "def softmax_activation(x):\n",
        "    # write your own implementation from scratch and return softmax values(using predefined softmax is prohibited)\n",
        "    Exponent_calculation=tf.exp(x-tf.reduce_max(x,axis=-1,keepdims=True))\n",
        "    Normalization=tf.reduce_sum(Exponent_calculation,axis=-1,keepdims=True)\n",
        "    return Exponent_calculation/Normalization\n",
        "    \n",
        "    \n",
        "class BiLSTMNet:\n",
        "\n",
        "    def __init__(self, reviews, ratings, e):\n",
        "        self.reviews = reviews\n",
        "        self.ratings = ratings\n",
        "        self.e = e\n",
        "    def build_nn(self):\n",
        "        #add the input and output layer here; you can use either tensorflow or pytorch\n",
        "        self.model = Sequential()\n",
        "        print(\"Reviews Shape: \", self.reviews.shape)\n",
        "        print(\"Ratings Shape: \", self.ratings.shape)\n",
        "        self.model.add(self.e)\n",
        "        # self.model.add(Flatten())\n",
        "        self.model.add(Bidirectional(LSTM(128)))\n",
        "        #self.model.add(Dense(5  , activation=\"relu\" ))\n",
        "        #self.model.add(Dense(32, activation='sigmoid'))\n",
        "        self.model.add(Dense(5))\n",
        "        self.model.add(Activation(softmax_activation, name='Softmax'))\n",
        "\n",
        "        self.model.compile(optimizer='adam', loss='categorical_crossentropy', metrics=['accuracy'])\n",
        "        print(self.model.summary())\n",
        "       \n",
        "    def train_nn(self,batch_size,epochs, ):\n",
        "        # write the training loop here; you can use either tensorflow or pytorch\n",
        "        # print validation accuracy\n",
        "        self.model.fit(self.reviews, self.ratings, epochs=epochs, batch_size=batch_size, verbose=1)\n",
        "\n",
        "    def predict(self, reviews):\n",
        "        # return a list containing all the ratings predicted by the trained model\n",
        "        predicted = self.model.predict(reviews)\n",
        "        return predicted"
      ],
      "execution_count": 9,
      "outputs": []
    },
    {
      "cell_type": "markdown",
      "metadata": {
        "id": "Yleil4JcOJRj"
      },
      "source": [
        "#### GRU"
      ]
    },
    {
      "cell_type": "code",
      "metadata": {
        "id": "OPzquSwmOQbO"
      },
      "source": [
        "def softmax_activation(x):\n",
        "    # write your own implementation from scratch and return softmax values(using predefined softmax is prohibited)\n",
        "    Exponent_calculation=tf.exp(x-tf.reduce_max(x,axis=-1,keepdims=True))\n",
        "    Normalization=tf.reduce_sum(Exponent_calculation,axis=-1,keepdims=True)\n",
        "    return Exponent_calculation/Normalization\n",
        "    \n",
        "    \n",
        "class GRUmodel:\n",
        "\n",
        "    def __init__(self, reviews, ratings, e):\n",
        "        self.reviews = reviews\n",
        "        self.ratings = ratings\n",
        "        self.e = e\n",
        "    def build_nn(self):\n",
        "        #add the input and output layer here; you can use either tensorflow or pytorch\n",
        "        self.model = Sequential()\n",
        "        print(\"Reviews Shape: \", self.reviews.shape)\n",
        "        print(\"Ratings Shape: \", self.ratings.shape)\n",
        "        self.model.add(self.e)\n",
        "        # self.model.add(Flatten())\n",
        "        self.model.add(GRU(128))\n",
        "        #self.model.add(Dense(5 , activation=\"relu\" ))\n",
        "        #self.model.add(Dense(32 , activation='sigmoid'))\n",
        "        self.model.add(Dense(5))\n",
        "        self.model.add(Activation(softmax_activation, name='Softmax'))\n",
        "\n",
        "        self.model.compile(optimizer='adam', loss='categorical_crossentropy', metrics=['accuracy'])\n",
        "        print(self.model.summary())\n",
        "       \n",
        "    def train_nn(self,batch_size,epochs, ):\n",
        "        # write the training loop here; you can use either tensorflow or pytorch\n",
        "        # print validation accuracy\n",
        "        self.model.fit(self.reviews, self.ratings, epochs=epochs, batch_size=batch_size, verbose=1)\n",
        "\n",
        "    def predict(self, reviews):\n",
        "        # return a list containing all the ratings predicted by the trained model\n",
        "        predicted = self.model.predict(reviews)\n",
        "        return predicted"
      ],
      "execution_count": 10,
      "outputs": []
    },
    {
      "cell_type": "markdown",
      "metadata": {
        "id": "GYTDAdrV6uoY"
      },
      "source": [
        "#### Bi-GRU"
      ]
    },
    {
      "cell_type": "code",
      "metadata": {
        "id": "OWVPfh296xgr"
      },
      "source": [
        "def softmax_activation(x):\n",
        "    # write your own implementation from scratch and return softmax values(using predefined softmax is prohibited)\n",
        "    Exponent_calculation=tf.exp(x-tf.reduce_max(x,axis=-1,keepdims=True))\n",
        "    Normalization=tf.reduce_sum(Exponent_calculation,axis=-1,keepdims=True)\n",
        "    return Exponent_calculation/Normalization\n",
        "    \n",
        "    \n",
        "class BiGRUmodel:\n",
        "\n",
        "    def __init__(self, reviews, ratings, e):\n",
        "        self.reviews = reviews\n",
        "        self.ratings = ratings\n",
        "        self.e = e\n",
        "    def build_nn(self):\n",
        "        #add the input and output layer here; you can use either tensorflow or pytorch\n",
        "        self.model = Sequential()\n",
        "        print(\"Reviews Shape: \", self.reviews.shape)\n",
        "        print(\"Ratings Shape: \", self.ratings.shape)\n",
        "        self.model.add(self.e)\n",
        "        # self.model.add(Flatten())\n",
        "        self.model.add(Bidirectional(GRU(128)))\n",
        "        #self.model.add(Dense(5 , activation=\"relu\" ))\n",
        "        #self.model.add(Dense(32 , activation='sigmoid'))\n",
        "        self.model.add(Dense(5))\n",
        "        self.model.add(Activation(softmax_activation, name='Softmax'))\n",
        "\n",
        "        self.model.compile(optimizer='adam', loss='categorical_crossentropy', metrics=['accuracy'])\n",
        "        print(self.model.summary())\n",
        "       \n",
        "    def train_nn(self,batch_size,epochs, ):\n",
        "        # write the training loop here; you can use either tensorflow or pytorch\n",
        "        # print validation accuracy\n",
        "        self.model.fit(self.reviews, self.ratings, epochs=epochs, batch_size=batch_size, verbose=1)\n",
        "\n",
        "    def predict(self, reviews):\n",
        "        # return a list containing all the ratings predicted by the trained model\n",
        "        predicted = self.model.predict(reviews)\n",
        "        return predicted"
      ],
      "execution_count": 11,
      "outputs": []
    },
    {
      "cell_type": "markdown",
      "metadata": {
        "id": "okIK0SwVtYYR"
      },
      "source": [
        "#### RNN"
      ]
    },
    {
      "cell_type": "code",
      "metadata": {
        "id": "pMi4v9AotYYW"
      },
      "source": [
        "def softmax_activation(x):\n",
        "    # write your own implementation from scratch and return softmax values(using predefined softmax is prohibited)\n",
        "    Exponent_calculation=tf.exp(x-tf.reduce_max(x,axis=-1,keepdims=True))\n",
        "    Normalization=tf.reduce_sum(Exponent_calculation,axis=-1,keepdims=True)\n",
        "    return Exponent_calculation/Normalization\n",
        "    \n",
        "    \n",
        "class RNNNet:\n",
        "\n",
        "    def __init__(self, reviews, ratings, e):\n",
        "        self.reviews = reviews\n",
        "        self.ratings = ratings\n",
        "        self.e = e\n",
        "    def build_nn(self):\n",
        "        #add the input and output layer here; you can use either tensorflow or pytorch\n",
        "        self.model = Sequential()\n",
        "        print(\"Reviews Shape: \", self.reviews.shape)\n",
        "        print(\"Ratings Shape: \", self.ratings.shape)\n",
        "        self.model.add(self.e)\n",
        "        # self.model.add(Flatten())\n",
        "        self.model.add(SimpleRNN(128))\n",
        "        #self.model.add(Dense(5  , activation=\"relu\" ))\n",
        "        #self.model.add(Dense(32, activation='sigmoid'))\n",
        "        self.model.add(Dense(5))\n",
        "        self.model.add(Activation(softmax_activation, name='Softmax'))\n",
        "\n",
        "        self.model.compile(optimizer='adam', loss='categorical_crossentropy', metrics=['accuracy'])\n",
        "        print(self.model.summary())\n",
        "       \n",
        "    def train_nn(self,batch_size,epochs, ):\n",
        "        # write the training loop here; you can use either tensorflow or pytorch\n",
        "        # print validation accuracy\n",
        "        self.model.fit(self.reviews, self.ratings, epochs=epochs, batch_size=batch_size, verbose=1)\n",
        "\n",
        "    def predict(self, reviews):\n",
        "        # return a list containing all the ratings predicted by the trained model\n",
        "        predicted = self.model.predict(reviews)\n",
        "        return predicted"
      ],
      "execution_count": 12,
      "outputs": []
    },
    {
      "cell_type": "markdown",
      "metadata": {
        "id": "3l7cqjFCNOS4"
      },
      "source": [
        "### Define Models (without pre-trained embedding layer)"
      ]
    },
    {
      "cell_type": "markdown",
      "metadata": {
        "id": "qpMsHR0CNOTA"
      },
      "source": [
        "#### Feed Forward Neural Network "
      ]
    },
    {
      "cell_type": "code",
      "metadata": {
        "id": "9bmmvPF0NOTL"
      },
      "source": [
        "def softmax_activation(x):\n",
        "    # write your own implementation from scratch and return softmax values(using predefined softmax is prohibited)\n",
        "    Exponent_calculation=tf.exp(x-tf.reduce_max(x,axis=-1,keepdims=True))\n",
        "    Normalization=tf.reduce_sum(Exponent_calculation,axis=-1,keepdims=True)\n",
        "    return Exponent_calculation/Normalization\n",
        "    \n",
        "\n",
        "class NeuralNet:\n",
        "\n",
        "    def __init__(self, reviews, ratings,e):\n",
        "        self.reviews = reviews\n",
        "        self.ratings = ratings\n",
        "        self.e = e\n",
        "    def build_nn(self):\n",
        "        #add the input and output layer here; you can use either tensorflow or pytorch\n",
        "        self.model = Sequential()\n",
        "        print(\"Reviews Shape: \", self.reviews.shape)\n",
        "        print(\"Ratings Shape: \", self.ratings.shape)\n",
        "        self.model.add(Embedding(vocab_size, 300, input_length=maxlen, trainable=True))\n",
        "        self.model.add(Flatten())\n",
        "        #self.model.add(Dense(5  , activation=\"relu\" ))\n",
        "        #self.model.add(Dense(32, activation='sigmoid'))\n",
        "        self.model.add(Dense(5))\n",
        "        self.model.add(Activation(softmax_activation, name='Softmax'))\n",
        "\n",
        "        self.model.compile(optimizer='adam', loss='categorical_crossentropy', metrics=['accuracy'])\n",
        "       \n",
        "    def train_nn(self,batch_size,epochs, ):\n",
        "        # write the training loop here; you can use either tensorflow or pytorch\n",
        "        # print validation accuracy\n",
        "        self.model.fit(self.reviews, self.ratings, epochs=epochs, batch_size=batch_size, verbose=1)\n",
        "\n",
        "    def predict(self, reviews):\n",
        "        # return a list containing all the ratings predicted by the trained model\n",
        "        predicted = self.model.predict(reviews)\n",
        "        return predicted"
      ],
      "execution_count": null,
      "outputs": []
    },
    {
      "cell_type": "markdown",
      "metadata": {
        "id": "mjp1MqKWNOTR"
      },
      "source": [
        "#### LSTM"
      ]
    },
    {
      "cell_type": "code",
      "metadata": {
        "id": "MAznv8GvNOTW"
      },
      "source": [
        "def softmax_activation(x):\n",
        "    # write your own implementation from scratch and return softmax values(using predefined softmax is prohibited)\n",
        "    Exponent_calculation=tf.exp(x-tf.reduce_max(x,axis=-1,keepdims=True))\n",
        "    Normalization=tf.reduce_sum(Exponent_calculation,axis=-1,keepdims=True)\n",
        "    return Exponent_calculation/Normalization\n",
        "    \n",
        "    \n",
        "class LSTMNet:\n",
        "\n",
        "    def __init__(self, reviews, ratings, e):\n",
        "        self.reviews = reviews\n",
        "        self.ratings = ratings\n",
        "        self.e = e\n",
        "    def build_nn(self):\n",
        "        #add the input and output layer here; you can use either tensorflow or pytorch\n",
        "        self.model = Sequential()\n",
        "        print(\"Reviews Shape: \", self.reviews.shape)\n",
        "        print(\"Ratings Shape: \", self.ratings.shape)\n",
        "        self.model.add(Embedding(vocab_size, 300, input_length=maxlen, trainable=True))\n",
        "        # self.model.add(Flatten())\n",
        "        self.model.add(LSTM(128))\n",
        "        #self.model.add(Dense(5  , activation=\"relu\" ))\n",
        "        #self.model.add(Dense(32, activation='sigmoid'))\n",
        "        self.model.add(Dense(5))\n",
        "        self.model.add(Activation(softmax_activation, name='Softmax'))\n",
        "\n",
        "        self.model.compile(optimizer='adam', loss='categorical_crossentropy', metrics=['accuracy'])\n",
        "        print(self.model.summary())\n",
        "       \n",
        "    def train_nn(self,batch_size,epochs, ):\n",
        "        # write the training loop here; you can use either tensorflow or pytorch\n",
        "        # print validation accuracy\n",
        "        self.model.fit(self.reviews, self.ratings, epochs=epochs, batch_size=batch_size, verbose=1)\n",
        "\n",
        "    def predict(self, reviews):\n",
        "        # return a list containing all the ratings predicted by the trained model\n",
        "        predicted = self.model.predict(reviews)\n",
        "        return predicted"
      ],
      "execution_count": null,
      "outputs": []
    },
    {
      "cell_type": "markdown",
      "metadata": {
        "id": "pXWUMEFSNOTc"
      },
      "source": [
        "#### Bi-LSTM"
      ]
    },
    {
      "cell_type": "code",
      "metadata": {
        "id": "5zhYpikrNOTg"
      },
      "source": [
        "def softmax_activation(x):\n",
        "    # write your own implementation from scratch and return softmax values(using predefined softmax is prohibited)\n",
        "    Exponent_calculation=tf.exp(x-tf.reduce_max(x,axis=-1,keepdims=True))\n",
        "    Normalization=tf.reduce_sum(Exponent_calculation,axis=-1,keepdims=True)\n",
        "    return Exponent_calculation/Normalization\n",
        "    \n",
        "    \n",
        "class BiLSTMNet:\n",
        "\n",
        "    def __init__(self, reviews, ratings, e):\n",
        "        self.reviews = reviews\n",
        "        self.ratings = ratings\n",
        "        self.e = e\n",
        "    def build_nn(self):\n",
        "        #add the input and output layer here; you can use either tensorflow or pytorch\n",
        "        self.model = Sequential()\n",
        "        print(\"Reviews Shape: \", self.reviews.shape)\n",
        "        print(\"Ratings Shape: \", self.ratings.shape)\n",
        "        self.model.add(Embedding(vocab_size, 300, input_length=maxlen, trainable=True))\n",
        "        # self.model.add(Flatten())\n",
        "        self.model.add(Bidirectional(LSTM(128)))\n",
        "        #self.model.add(Dense(5  , activation=\"relu\" ))\n",
        "        #self.model.add(Dense(32, activation='sigmoid'))\n",
        "        self.model.add(Dense(5))\n",
        "        self.model.add(Activation(softmax_activation, name='Softmax'))\n",
        "\n",
        "        self.model.compile(optimizer='adam', loss='categorical_crossentropy', metrics=['accuracy'])\n",
        "        print(self.model.summary())\n",
        "       \n",
        "    def train_nn(self,batch_size,epochs, ):\n",
        "        # write the training loop here; you can use either tensorflow or pytorch\n",
        "        # print validation accuracy\n",
        "        self.model.fit(self.reviews, self.ratings, epochs=epochs, batch_size=batch_size, verbose=1)\n",
        "\n",
        "    def predict(self, reviews):\n",
        "        # return a list containing all the ratings predicted by the trained model\n",
        "        predicted = self.model.predict(reviews)\n",
        "        return predicted"
      ],
      "execution_count": null,
      "outputs": []
    },
    {
      "cell_type": "markdown",
      "metadata": {
        "id": "m9NAJ2Z8NOTl"
      },
      "source": [
        "#### GRU"
      ]
    },
    {
      "cell_type": "code",
      "metadata": {
        "id": "ACx284g_NOTp"
      },
      "source": [
        "def softmax_activation(x):\n",
        "    # write your own implementation from scratch and return softmax values(using predefined softmax is prohibited)\n",
        "    Exponent_calculation=tf.exp(x-tf.reduce_max(x,axis=-1,keepdims=True))\n",
        "    Normalization=tf.reduce_sum(Exponent_calculation,axis=-1,keepdims=True)\n",
        "    return Exponent_calculation/Normalization\n",
        "    \n",
        "    \n",
        "class GRUmodel:\n",
        "\n",
        "    def __init__(self, reviews, ratings, e):\n",
        "        self.reviews = reviews\n",
        "        self.ratings = ratings\n",
        "        self.e = e\n",
        "    def build_nn(self):\n",
        "        #add the input and output layer here; you can use either tensorflow or pytorch\n",
        "        self.model = Sequential()\n",
        "        print(\"Reviews Shape: \", self.reviews.shape)\n",
        "        print(\"Ratings Shape: \", self.ratings.shape)\n",
        "        self.model.add(Embedding(vocab_size, 300, input_length=maxlen, trainable=True))\n",
        "        # self.model.add(Flatten())\n",
        "        self.model.add(GRU(128))\n",
        "        #self.model.add(Dense(5 , activation=\"relu\" ))\n",
        "        #self.model.add(Dense(32 , activation='sigmoid'))\n",
        "        self.model.add(Dense(5))\n",
        "        self.model.add(Activation(softmax_activation, name='Softmax'))\n",
        "\n",
        "        self.model.compile(optimizer='adam', loss='categorical_crossentropy', metrics=['accuracy'])\n",
        "        print(self.model.summary())\n",
        "       \n",
        "    def train_nn(self,batch_size,epochs, ):\n",
        "        # write the training loop here; you can use either tensorflow or pytorch\n",
        "        # print validation accuracy\n",
        "        self.model.fit(self.reviews, self.ratings, epochs=epochs, batch_size=batch_size, verbose=1)\n",
        "\n",
        "    def predict(self, reviews):\n",
        "        # return a list containing all the ratings predicted by the trained model\n",
        "        predicted = self.model.predict(reviews)\n",
        "        return predicted"
      ],
      "execution_count": null,
      "outputs": []
    },
    {
      "cell_type": "markdown",
      "metadata": {
        "id": "7NN6h8o3NOTw"
      },
      "source": [
        "#### Bi-GRU"
      ]
    },
    {
      "cell_type": "code",
      "metadata": {
        "id": "W2rpK2PHNOT0"
      },
      "source": [
        "def softmax_activation(x):\n",
        "    # write your own implementation from scratch and return softmax values(using predefined softmax is prohibited)\n",
        "    Exponent_calculation=tf.exp(x-tf.reduce_max(x,axis=-1,keepdims=True))\n",
        "    Normalization=tf.reduce_sum(Exponent_calculation,axis=-1,keepdims=True)\n",
        "    return Exponent_calculation/Normalization\n",
        "    \n",
        "    \n",
        "class BiGRUmodel:\n",
        "\n",
        "    def __init__(self, reviews, ratings, e):\n",
        "        self.reviews = reviews\n",
        "        self.ratings = ratings\n",
        "        self.e = e\n",
        "    def build_nn(self):\n",
        "        #add the input and output layer here; you can use either tensorflow or pytorch\n",
        "        self.model = Sequential()\n",
        "        print(\"Reviews Shape: \", self.reviews.shape)\n",
        "        print(\"Ratings Shape: \", self.ratings.shape)\n",
        "        self.model.add(Embedding(vocab_size, 300, input_length=maxlen, trainable=True))\n",
        "        # self.model.add(Flatten())\n",
        "        self.model.add(Bidirectional(GRU(128)))\n",
        "        #self.model.add(Dense(5 , activation=\"relu\" ))\n",
        "        #self.model.add(Dense(32 , activation='sigmoid'))\n",
        "        self.model.add(Dense(5))\n",
        "        self.model.add(Activation(softmax_activation, name='Softmax'))\n",
        "\n",
        "        self.model.compile(optimizer='adam', loss='categorical_crossentropy', metrics=['accuracy'])\n",
        "        print(self.model.summary())\n",
        "       \n",
        "    def train_nn(self,batch_size,epochs, ):\n",
        "        # write the training loop here; you can use either tensorflow or pytorch\n",
        "        # print validation accuracy\n",
        "        self.model.fit(self.reviews, self.ratings, epochs=epochs, batch_size=batch_size, verbose=1)\n",
        "\n",
        "    def predict(self, reviews):\n",
        "        # return a list containing all the ratings predicted by the trained model\n",
        "        predicted = self.model.predict(reviews)\n",
        "        return predicted"
      ],
      "execution_count": null,
      "outputs": []
    },
    {
      "cell_type": "markdown",
      "metadata": {
        "id": "MhrQFy0RNOT4"
      },
      "source": [
        "#### RNN"
      ]
    },
    {
      "cell_type": "code",
      "metadata": {
        "id": "mWyB2el1NOT6"
      },
      "source": [
        "def softmax_activation(x):\n",
        "    # write your own implementation from scratch and return softmax values(using predefined softmax is prohibited)\n",
        "    Exponent_calculation=tf.exp(x-tf.reduce_max(x,axis=-1,keepdims=True))\n",
        "    Normalization=tf.reduce_sum(Exponent_calculation,axis=-1,keepdims=True)\n",
        "    return Exponent_calculation/Normalization\n",
        "    \n",
        "    \n",
        "class RNNNet:\n",
        "\n",
        "    def __init__(self, reviews, ratings, e):\n",
        "        self.reviews = reviews\n",
        "        self.ratings = ratings\n",
        "        self.e = e\n",
        "    def build_nn(self):\n",
        "        #add the input and output layer here; you can use either tensorflow or pytorch\n",
        "        self.model = Sequential()\n",
        "        print(\"Reviews Shape: \", self.reviews.shape)\n",
        "        print(\"Ratings Shape: \", self.ratings.shape)\n",
        "        self.model.add(Embedding(vocab_size, 300, input_length=maxlen, trainable=True))\n",
        "        # self.model.add(Flatten())\n",
        "        self.model.add(SimpleRNN(128))\n",
        "        #self.model.add(Dense(5  , activation=\"relu\" ))\n",
        "        #self.model.add(Dense(32, activation='sigmoid'))\n",
        "        self.model.add(Dense(5))\n",
        "        self.model.add(Activation(softmax_activation, name='Softmax'))\n",
        "\n",
        "        self.model.compile(optimizer='adam', loss='categorical_crossentropy', metrics=['accuracy'])\n",
        "        print(self.model.summary())\n",
        "       \n",
        "    def train_nn(self,batch_size,epochs, ):\n",
        "        # write the training loop here; you can use either tensorflow or pytorch\n",
        "        # print validation accuracy\n",
        "        self.model.fit(self.reviews, self.ratings, epochs=epochs, batch_size=batch_size, verbose=1)\n",
        "\n",
        "    def predict(self, reviews):\n",
        "        # return a list containing all the ratings predicted by the trained model\n",
        "        predicted = self.model.predict(reviews)\n",
        "        return predicted"
      ],
      "execution_count": null,
      "outputs": []
    },
    {
      "cell_type": "markdown",
      "metadata": {
        "id": "c8vcLmW9rnvA"
      },
      "source": [
        "### Import Datasets"
      ]
    },
    {
      "cell_type": "code",
      "metadata": {
        "colab": {
          "base_uri": "https://localhost:8080/"
        },
        "id": "FZuFTmtQrjJi",
        "outputId": "1b411011-a5bb-4377-d193-3a52991d607a"
      },
      "source": [
        "# reading dataset\n",
        "train_data = pd.read_csv(\"train.csv\", index_col=0)\n",
        "test_data = pd.read_csv(\"test.csv\", index_col=0)\n",
        "\n",
        "# separate reviews, ratings\n",
        "train_reviews = train_data.iloc[:, :-1]\n",
        "train_ratings = train_data.iloc[:, -1]\n",
        "train_ratings = pd.get_dummies(train_ratings)\n",
        "   \n",
        "tokenizer = Tokenizer(oov_token = '<oov>')\n",
        "\n",
        "# pre-process data\n",
        "train_reviews, tokenizer = preprocess_data(tokenizer, train_data, preprocessing_training_data=True)\n",
        "test_reviews, tokenizer = preprocess_data(tokenizer, test_data, maxlen=train_reviews.shape[1])\n",
        "print(len(train_reviews))\n",
        "print(len(train_ratings))\n",
        "maxlen=train_reviews.shape[1]\n",
        "vocab_size = len(tokenizer.word_index) + 1\n",
        "print(vocab_size)"
      ],
      "execution_count": 18,
      "outputs": [
        {
          "output_type": "stream",
          "text": [
            "50000\n",
            "50000\n",
            "15956\n"
          ],
          "name": "stdout"
        }
      ]
    },
    {
      "cell_type": "markdown",
      "metadata": {
        "id": "5aEK7Ws9reKL"
      },
      "source": [
        "### Word Embeddings"
      ]
    },
    {
      "cell_type": "markdown",
      "metadata": {
        "id": "WYAsfvY5reKR"
      },
      "source": [
        "#### Glove"
      ]
    },
    {
      "cell_type": "code",
      "metadata": {
        "colab": {
          "base_uri": "https://localhost:8080/",
          "height": 229
        },
        "id": "1mafegSfreKU",
        "outputId": "9f1c7f0e-cc8e-49b7-aa5b-5613eac1f0e8"
      },
      "source": [
        "# load the whole embedding into memory\n",
        "embeddings_index = dict()\n",
        "f = open('glove.6B.300d.txt')\n",
        "for line in f:\n",
        "    values = line.split()\n",
        "    word = values[0]\n",
        "    coefs = np.asarray(values[1:], dtype='float32')\n",
        "    embeddings_index[word] = coefs\n",
        "f.close()\n",
        "print('Loaded %s word vectors.' % len(embeddings_index))\n",
        "\n",
        "# create a weight matrix for words in training docs\n",
        "embedding_matrix = np.zeros((vocab_size, 300))\n",
        "for word, i in tokenizer.word_index.items():\n",
        "    embedding_vector = embeddings_index.get(word)\n",
        "    if embedding_vector is not None:\n",
        "        embedding_matrix[i] = embedding_vector\n",
        "print(train_reviews.shape)\n",
        "print(embedding_matrix.shape)\n",
        "e = Embedding(vocab_size, 300, embeddings_initializer=Constant(embedding_matrix), input_length=maxlen, trainable=False)\n",
        "# TODO: Cross-validate\n",
        "print(train_reviews.shape)"
      ],
      "execution_count": null,
      "outputs": [
        {
          "output_type": "error",
          "ename": "FileNotFoundError",
          "evalue": "ignored",
          "traceback": [
            "\u001b[0;31m---------------------------------------------------------------------------\u001b[0m",
            "\u001b[0;31mFileNotFoundError\u001b[0m                         Traceback (most recent call last)",
            "\u001b[0;32m<ipython-input-13-1b57004cc77c>\u001b[0m in \u001b[0;36m<module>\u001b[0;34m()\u001b[0m\n\u001b[1;32m      1\u001b[0m \u001b[0;31m# load the whole embedding into memory\u001b[0m\u001b[0;34m\u001b[0m\u001b[0;34m\u001b[0m\u001b[0;34m\u001b[0m\u001b[0m\n\u001b[1;32m      2\u001b[0m \u001b[0membeddings_index\u001b[0m \u001b[0;34m=\u001b[0m \u001b[0mdict\u001b[0m\u001b[0;34m(\u001b[0m\u001b[0;34m)\u001b[0m\u001b[0;34m\u001b[0m\u001b[0;34m\u001b[0m\u001b[0m\n\u001b[0;32m----> 3\u001b[0;31m \u001b[0mf\u001b[0m \u001b[0;34m=\u001b[0m \u001b[0mopen\u001b[0m\u001b[0;34m(\u001b[0m\u001b[0;34m'glove.6B.300d.txt'\u001b[0m\u001b[0;34m)\u001b[0m\u001b[0;34m\u001b[0m\u001b[0;34m\u001b[0m\u001b[0m\n\u001b[0m\u001b[1;32m      4\u001b[0m \u001b[0;32mfor\u001b[0m \u001b[0mline\u001b[0m \u001b[0;32min\u001b[0m \u001b[0mf\u001b[0m\u001b[0;34m:\u001b[0m\u001b[0;34m\u001b[0m\u001b[0;34m\u001b[0m\u001b[0m\n\u001b[1;32m      5\u001b[0m     \u001b[0mvalues\u001b[0m \u001b[0;34m=\u001b[0m \u001b[0mline\u001b[0m\u001b[0;34m.\u001b[0m\u001b[0msplit\u001b[0m\u001b[0;34m(\u001b[0m\u001b[0;34m)\u001b[0m\u001b[0;34m\u001b[0m\u001b[0;34m\u001b[0m\u001b[0m\n",
            "\u001b[0;31mFileNotFoundError\u001b[0m: [Errno 2] No such file or directory: 'glove.6B.300d.txt'"
          ]
        }
      ]
    },
    {
      "cell_type": "markdown",
      "metadata": {
        "id": "7T6uCRfRreKd"
      },
      "source": [
        "#### Fasttext\n"
      ]
    },
    {
      "cell_type": "code",
      "metadata": {
        "colab": {
          "base_uri": "https://localhost:8080/"
        },
        "id": "Pn8fcPnNreKf",
        "outputId": "6c607850-18d1-43fa-e606-e3071208e950"
      },
      "source": [
        "# load the whole embedding into memory\n",
        "embeddings_index = dict()\n",
        "f = open('wiki-news-300d-1M.vec')\n",
        "for line in f:\n",
        "    values = line.split()\n",
        "    word = values[0]\n",
        "    coefs = np.asarray(values[1:], dtype='float32')\n",
        "    embeddings_index[word] = coefs\n",
        "f.close()\n",
        "print('Loaded %s word vectors.' % len(embeddings_index))\n",
        "#print(values)\n",
        "# create a weight matrix for words in training docs\n",
        "embedding_matrix = np.zeros((vocab_size, 300))\n",
        "for word, i in tokenizer.word_index.items():\n",
        "     embedding_vector = embeddings_index.get(word)\n",
        "     if embedding_vector is not None:\n",
        "        embedding_matrix[i] = embedding_vector\n",
        "print(train_reviews.shape)\n",
        "print(embedding_matrix.shape)\n",
        "e = Embedding(vocab_size, 300, embeddings_initializer=Constant(embedding_matrix), input_length=maxlen, trainable=True)\n",
        "# TODO: Cross-validate\n",
        "print(train_reviews.shape)"
      ],
      "execution_count": null,
      "outputs": [
        {
          "output_type": "stream",
          "text": [
            "Loaded 999995 word vectors.\n",
            "(50000, 31)\n",
            "(15956, 300)\n",
            "(50000, 31)\n"
          ],
          "name": "stdout"
        }
      ]
    },
    {
      "cell_type": "markdown",
      "metadata": {
        "id": "FAAQ8UiJreKi"
      },
      "source": [
        "####Word2vec"
      ]
    },
    {
      "cell_type": "code",
      "metadata": {
        "colab": {
          "base_uri": "https://localhost:8080/"
        },
        "id": "1b2CrcKgreKl",
        "outputId": "4949de94-ff09-4b99-c109-54c21d22460e"
      },
      "source": [
        "from gensim.models import KeyedVectors\n",
        "\n",
        "# load the whole embedding into memory\n",
        "embeddings_index = dict()\n",
        "\n",
        "\n",
        "#f = open('GoogleNews-vectors-negative300.bin')\n",
        "model_w2v = KeyedVectors.load_word2vec_format('GoogleNews-vectors-negative300.bin', binary=True)\n",
        "print(type(model_w2v))\n"
      ],
      "execution_count": 19,
      "outputs": [
        {
          "output_type": "stream",
          "text": [
            "<class 'gensim.models.keyedvectors.Word2VecKeyedVectors'>\n"
          ],
          "name": "stdout"
        }
      ]
    },
    {
      "cell_type": "code",
      "metadata": {
        "id": "aJHEK-LHNyv7"
      },
      "source": [
        "# prepare embedding matrix\n",
        "embedding_matrix = np.zeros((vocab_size, 300))\n",
        "for word, i in tokenizer.word_index.items():\n",
        "    if word in model_w2v.vocab:\n",
        "        embedding_vector = model_w2v[word]\n",
        "        embedding_vector = np.array(embedding_vector)\n",
        "        if embedding_vector is not None:\n",
        "          embedding_matrix[i] = embedding_vector\n",
        "\n",
        "e = Embedding(vocab_size, 300, embeddings_initializer=Constant(embedding_matrix), input_length=maxlen, trainable=False)"
      ],
      "execution_count": 20,
      "outputs": []
    },
    {
      "cell_type": "markdown",
      "metadata": {
        "id": "6bHgB-OKN3MG"
      },
      "source": [
        "### Without pre-trained word embedding"
      ]
    },
    {
      "cell_type": "code",
      "metadata": {
        "id": "oiCX4iPzN2UK"
      },
      "source": [
        "e = None"
      ],
      "execution_count": null,
      "outputs": []
    },
    {
      "cell_type": "markdown",
      "metadata": {
        "id": "MaNBH_r4UcRE"
      },
      "source": [
        "### Data Imbalanced Handling\n"
      ]
    },
    {
      "cell_type": "markdown",
      "metadata": {
        "id": "cXdVILD7b9gr"
      },
      "source": [
        "#### Utility Functions"
      ]
    },
    {
      "cell_type": "code",
      "metadata": {
        "id": "IgQH8sYKPPzr"
      },
      "source": [
        "def class_counts(ratings):    \n",
        "    # find # of elements of each class\n",
        "    cnts = ratings.value_counts()\n",
        "    class1_count = cnts[1]\n",
        "    class2_count = cnts[2]\n",
        "    class3_count = cnts[3]\n",
        "    class4_count = cnts[4]\n",
        "    class5_count = cnts[5]\n",
        "    \n",
        "    return class1_count, class2_count, class3_count, class4_count, class5_count\n",
        "\n",
        "def minority_class_count(ratings):\n",
        "    # find # no of elements in the minority class\n",
        "    return min(class_counts(ratings))\n",
        "\n",
        "def majority_class_count(ratings):\n",
        "    # find # no of elements in the minority class\n",
        "    return max(class_counts(ratings))\n",
        "\n",
        "def average_class_count(ratings):\n",
        "    return int(sum(class_counts(ratings))/5) \n"
      ],
      "execution_count": null,
      "outputs": []
    },
    {
      "cell_type": "markdown",
      "metadata": {
        "id": "kNFlkgEPcE7z"
      },
      "source": [
        "####  Undersampling Technique-1"
      ]
    },
    {
      "cell_type": "code",
      "metadata": {
        "colab": {
          "base_uri": "https://localhost:8080/"
        },
        "id": "F6brLxAQbwwh",
        "outputId": "5c104567-00fe-4fa9-91e6-2b04628850c3"
      },
      "source": [
        "# 1. reduce the number of ratings of each class to the 'minority_class_count' \n",
        "class1_data = train_data[train_data['ratings']==1]\n",
        "class2_data = train_data[train_data['ratings']==2]\n",
        "class3_data = train_data[train_data['ratings']==3]\n",
        "class4_data = train_data[train_data['ratings']==4]\n",
        "class5_data = train_data[train_data['ratings']==5]\n",
        "\n",
        "minority_class_cnt = minority_class_count(train_data['ratings'])\n",
        "class1_data = class1_data.sample(minority_class_cnt, random_state=1)\n",
        "class2_data = class2_data.sample(minority_class_cnt, random_state=1)\n",
        "class3_data = class3_data.sample(minority_class_cnt, random_state=1)\n",
        "class4_data = class4_data.sample(minority_class_cnt, random_state=1)\n",
        "class5_data = class5_data.sample(minority_class_cnt, random_state=1)\n",
        "\n",
        "train_data_undersample = pd.concat([class1_data, class2_data, class3_data, class4_data, class5_data], axis=0)\n",
        "\n",
        "# separate reviews, ratings\n",
        "train_reviews = train_data_undersample.iloc[:, :-1]\n",
        "train_ratings = train_data_undersample.iloc[:, -1]\n",
        "train_ratings = pd.get_dummies(train_ratings)\n",
        "   \n",
        "tokenizer = Tokenizer(oov_token = '<oov>')\n",
        "\n",
        "# pre-process data\n",
        "train_reviews, tokenizer = preprocess_data(tokenizer, train_data_undersample, preprocessing_training_data=True)\n",
        "test_reviews, tokenizer = preprocess_data(tokenizer, test_data, maxlen=train_reviews.shape[1])\n",
        "\n",
        "maxlen=train_reviews.shape[1]\n",
        "vocab_size = len(tokenizer.word_index) + 1\n",
        "\n",
        "print(\"Vocab Size:\", vocab_size)\n",
        "print(\"Train Data Shape:\", train_reviews.shape, \"Test Data Shape:\", test_reviews.shape)\n",
        "print(f\"Train Data Distribution:\\n{train_data_undersample['ratings'].value_counts()}\")"
      ],
      "execution_count": null,
      "outputs": [
        {
          "output_type": "stream",
          "text": [
            "Vocab Size: 8243\n",
            "Train Data Shape: (11325, 30) Test Data Shape: (10000, 30)\n",
            "Train Data Distribution:\n",
            "5    2265\n",
            "4    2265\n",
            "3    2265\n",
            "2    2265\n",
            "1    2265\n",
            "Name: ratings, dtype: int64\n"
          ],
          "name": "stdout"
        }
      ]
    },
    {
      "cell_type": "markdown",
      "metadata": {
        "id": "jmCPQLwncOqL"
      },
      "source": [
        "#### Undersampling technique-2"
      ]
    },
    {
      "cell_type": "code",
      "metadata": {
        "colab": {
          "base_uri": "https://localhost:8080/"
        },
        "id": "TMon7DHQbwnN",
        "outputId": "cd57924c-cc25-4db2-c365-b67f5631a4a0"
      },
      "source": [
        "# 2. reduce the number of ratings of each class to the 'avg_class_count' \n",
        "class1_data = train_data[train_data['ratings']==1]\n",
        "class2_data = train_data[train_data['ratings']==2]\n",
        "class3_data = train_data[train_data['ratings']==3]\n",
        "class4_data = train_data[train_data['ratings']==4]\n",
        "class5_data = train_data[train_data['ratings']==5]\n",
        "\n",
        "avg_class_count = average_class_count(train_data['ratings'])\n",
        "class1_data = class1_data.sample(min(class1_data.shape[0], avg_class_count), random_state=1)\n",
        "class2_data = class2_data.sample(min(class2_data.shape[0], avg_class_count), random_state=1)\n",
        "class3_data = class3_data.sample(min(class3_data.shape[0], avg_class_count), random_state=1)\n",
        "class4_data = class4_data.sample(min(class4_data.shape[0], avg_class_count), random_state=1)\n",
        "class5_data = class5_data.sample(min(class5_data.shape[0], avg_class_count), random_state=1)\n",
        "\n",
        "train_data_undersample = pd.concat([class1_data, class2_data, class3_data, class4_data, class5_data], axis=0)\n",
        "\n",
        "# separate reviews, ratings\n",
        "train_reviews = train_data_undersample.iloc[:, :-1]\n",
        "train_ratings = train_data_undersample.iloc[:, -1]\n",
        "train_ratings = pd.get_dummies(train_ratings)\n",
        "   \n",
        "tokenizer = Tokenizer(oov_token = '<oov>')\n",
        "\n",
        "# pre-process data\n",
        "train_reviews, tokenizer = preprocess_data(tokenizer, train_data_undersample, preprocessing_training_data=True)\n",
        "test_reviews, tokenizer = preprocess_data(tokenizer, test_data, maxlen=train_reviews.shape[1])\n",
        "\n",
        "maxlen=train_reviews.shape[1]\n",
        "vocab_size = len(tokenizer.word_index) + 1\n",
        "\n",
        "print(\"Vocab Size:\", vocab_size)\n",
        "print(\"Train Data Shape:\", train_reviews.shape, \"Test Data Shape:\", test_reviews.shape)\n",
        "print(f\"Train Data Distribution:\\n{train_data_undersample['ratings'].value_counts()}\")"
      ],
      "execution_count": null,
      "outputs": [
        {
          "output_type": "stream",
          "text": [
            "Vocab Size: 12294\n",
            "Train Data Shape: (26807, 31) Test Data Shape: (10000, 31)\n",
            "Train Data Distribution:\n",
            "5    10000\n",
            "4     6871\n",
            "1     4059\n",
            "3     3612\n",
            "2     2265\n",
            "Name: ratings, dtype: int64\n"
          ],
          "name": "stdout"
        }
      ]
    },
    {
      "cell_type": "markdown",
      "metadata": {
        "id": "R3l5LVS8cY1Q"
      },
      "source": [
        "#### Oversampling Technique-1\n"
      ]
    },
    {
      "cell_type": "code",
      "metadata": {
        "colab": {
          "base_uri": "https://localhost:8080/"
        },
        "id": "pjv5TTLqccHH",
        "outputId": "39d9c6ad-b6ae-48c8-8a8a-bb9a9f2ac35e"
      },
      "source": [
        "# 1. increase the number of ratings of each class to the 'majority_class_count' \n",
        "class1_data = train_data[train_data['ratings']==1]\n",
        "class2_data = train_data[train_data['ratings']==2]\n",
        "class3_data = train_data[train_data['ratings']==3]\n",
        "class4_data = train_data[train_data['ratings']==4]\n",
        "class5_data = train_data[train_data['ratings']==5]\n",
        "\n",
        "majority_class_cnt = majority_class_count(train_data['ratings'])\n",
        "class1_data = class1_data.sample(majority_class_cnt, random_state=1, replace=True)\n",
        "class2_data = class2_data.sample(majority_class_cnt, random_state=1, replace=True)\n",
        "class3_data = class3_data.sample(majority_class_cnt, random_state=1, replace=True)\n",
        "class4_data = class4_data.sample(majority_class_cnt, random_state=1, replace=True)\n",
        "class5_data = class5_data.sample(majority_class_cnt, random_state=1, replace=True)\n",
        "\n",
        "train_data_oversample = pd.concat([class1_data, class2_data, class3_data, class4_data, class5_data], axis=0)\n",
        "\n",
        "# separate reviews, ratings\n",
        "train_reviews = train_data_undersample.iloc[:, :-1]\n",
        "train_ratings = train_data_undersample.iloc[:, -1]\n",
        "train_ratings = pd.get_dummies(train_ratings)\n",
        "   \n",
        "tokenizer = Tokenizer(oov_token = '<oov>')\n",
        "\n",
        "# pre-process data\n",
        "train_reviews, tokenizer = preprocess_data(tokenizer, train_data_oversample, preprocessing_training_data=True)\n",
        "test_reviews, tokenizer = preprocess_data(tokenizer, test_data, maxlen=train_reviews.shape[1])\n",
        "\n",
        "maxlen=train_reviews.shape[1]\n",
        "vocab_size = len(tokenizer.word_index) + 1\n",
        "\n",
        "print(\"Vocab Size:\", vocab_size)\n",
        "print(\"Train Data Shape:\", train_reviews.shape, \"Test Data Shape:\", test_reviews.shape)\n",
        "print(f\"Train Data Distribution:\\n{train_data_oversample['ratings'].value_counts()}\")"
      ],
      "execution_count": null,
      "outputs": [
        {
          "output_type": "stream",
          "text": [
            "Vocab Size: 14210\n",
            "Train Data Shape: (165965, 31) Test Data Shape: (10000, 31)\n",
            "Train Data Distribution:\n",
            "5    33193\n",
            "4    33193\n",
            "3    33193\n",
            "2    33193\n",
            "1    33193\n",
            "Name: ratings, dtype: int64\n"
          ],
          "name": "stdout"
        }
      ]
    },
    {
      "cell_type": "markdown",
      "metadata": {
        "id": "nSr7yoTscium"
      },
      "source": [
        "#### Oversampling Technique-2"
      ]
    },
    {
      "cell_type": "code",
      "metadata": {
        "colab": {
          "base_uri": "https://localhost:8080/"
        },
        "id": "uVuXnTI3cllj",
        "outputId": "441187e7-bc93-4cea-81fd-87431d42f813"
      },
      "source": [
        "# 2. increase the number of ratings of each class to the 'avg_class_count' \n",
        "class1_data = train_data[train_data['ratings']==1]\n",
        "class2_data = train_data[train_data['ratings']==2]\n",
        "class3_data = train_data[train_data['ratings']==3]\n",
        "class4_data = train_data[train_data['ratings']==4]\n",
        "class5_data = train_data[train_data['ratings']==5]\n",
        "\n",
        "avg_class_count = average_class_count(train_data['ratings'])\n",
        "class1_data = class1_data.sample(max(class1_data.shape[0], avg_class_count), random_state=1, replace=True)\n",
        "class2_data = class2_data.sample(max(class2_data.shape[0], avg_class_count), random_state=1, replace=True)\n",
        "class3_data = class3_data.sample(max(class3_data.shape[0], avg_class_count), random_state=1, replace=True)\n",
        "class4_data = class4_data.sample(max(class4_data.shape[0], avg_class_count), random_state=1, replace=True)\n",
        "class5_data = class5_data.sample(max(class5_data.shape[0], avg_class_count), random_state=1, replace=True)\n",
        "\n",
        "train_data_oversample = pd.concat([class1_data, class2_data, class3_data, class4_data, class5_data], axis=0)\n",
        "\n",
        "# separate reviews, ratings\n",
        "train_reviews = train_data_undersample.iloc[:, :-1]\n",
        "train_ratings = train_data_undersample.iloc[:, -1]\n",
        "train_ratings = pd.get_dummies(train_ratings)\n",
        "   \n",
        "tokenizer = Tokenizer(oov_token = '<oov>')\n",
        "\n",
        "# pre-process data\n",
        "train_reviews, tokenizer = preprocess_data(tokenizer, train_data_oversample, preprocessing_training_data=True)\n",
        "test_reviews, tokenizer = preprocess_data(tokenizer, test_data, maxlen=train_reviews.shape[1])\n",
        "\n",
        "maxlen=train_reviews.shape[1]\n",
        "vocab_size = len(tokenizer.word_index) + 1\n",
        "\n",
        "print(\"Vocab Size:\", vocab_size)\n",
        "print(\"Train Data Shape:\", train_reviews.shape, \"Test Data Shape:\", test_reviews.shape)\n",
        "print(f\"Train Data Distribution:\\n{train_data_oversample['ratings'].value_counts()}\")"
      ],
      "execution_count": null,
      "outputs": [
        {
          "output_type": "stream",
          "text": [
            "Vocab Size: 13847\n",
            "Train Data Shape: (73193, 31) Test Data Shape: (10000, 31)\n",
            "Train Data Distribution:\n",
            "5    33193\n",
            "4    10000\n",
            "3    10000\n",
            "2    10000\n",
            "1    10000\n",
            "Name: ratings, dtype: int64\n"
          ],
          "name": "stdout"
        }
      ]
    },
    {
      "cell_type": "markdown",
      "metadata": {
        "id": "BXAOF039clD8"
      },
      "source": [
        "#### Oversampling & Undersampling Technique-3\n"
      ]
    },
    {
      "cell_type": "code",
      "metadata": {
        "colab": {
          "base_uri": "https://localhost:8080/"
        },
        "id": "mMDNn5Sjcx3K",
        "outputId": "2fd7b104-dd5e-42c2-bd44-82eb23389f73"
      },
      "source": [
        "# 3. change the number of ratings of each class to the 'avg_class_count' \n",
        "class1_data = train_data[train_data['ratings']==1]\n",
        "class2_data = train_data[train_data['ratings']==2]\n",
        "class3_data = train_data[train_data['ratings']==3]\n",
        "class4_data = train_data[train_data['ratings']==4]\n",
        "class5_data = train_data[train_data['ratings']==5]\n",
        "\n",
        "avg_class_count = average_class_count(train_data['ratings'])\n",
        "class1_data = class1_data.sample(avg_class_count, random_state=1, replace=True)\n",
        "class2_data = class2_data.sample(avg_class_count, random_state=1, replace=True)\n",
        "class3_data = class3_data.sample(avg_class_count, random_state=1, replace=True)\n",
        "class4_data = class4_data.sample(avg_class_count, random_state=1, replace=True)\n",
        "class5_data = class5_data.sample(avg_class_count, random_state=1, replace=True)\n",
        "\n",
        "train_data_oversample = pd.concat([class1_data, class2_data, class3_data, class4_data, class5_data], axis=0)\n",
        "\n",
        "# separate reviews, ratings\n",
        "train_reviews = train_data_undersample.iloc[:, :-1]\n",
        "train_ratings = train_data_undersample.iloc[:, -1]\n",
        "train_ratings = pd.get_dummies(train_ratings)\n",
        "   \n",
        "tokenizer = Tokenizer(oov_token = '<oov>')\n",
        "\n",
        "# pre-process data\n",
        "train_reviews, tokenizer = preprocess_data(tokenizer, train_data_oversample, preprocessing_training_data=True)\n",
        "test_reviews, tokenizer = preprocess_data(tokenizer, test_data, maxlen=train_reviews.shape[1])\n",
        "\n",
        "maxlen=train_reviews.shape[1]\n",
        "vocab_size = len(tokenizer.word_index) + 1\n",
        "\n",
        "print(\"Vocab Size:\", vocab_size)\n",
        "print(\"Train Data Shape:\", train_reviews.shape, \"Test Data Shape:\", test_reviews.shape)\n",
        "print(f\"Train Data Distribution:\\n{train_data_oversample['ratings'].value_counts()}\")"
      ],
      "execution_count": null,
      "outputs": [
        {
          "output_type": "stream",
          "text": [
            "Vocab Size: 11468\n",
            "Train Data Shape: (50000, 31) Test Data Shape: (10000, 31)\n",
            "Train Data Distribution:\n",
            "5    10000\n",
            "4    10000\n",
            "3    10000\n",
            "2    10000\n",
            "1    10000\n",
            "Name: ratings, dtype: int64\n"
          ],
          "name": "stdout"
        }
      ]
    },
    {
      "cell_type": "markdown",
      "metadata": {
        "id": "Cj7uViOAP8nZ"
      },
      "source": [
        "### Train FFNN Model\n"
      ]
    },
    {
      "cell_type": "code",
      "metadata": {
        "colab": {
          "base_uri": "https://localhost:8080/"
        },
        "id": "u8cPuyIaPcsI",
        "outputId": "e7e60d44-7460-41f3-eaab-839abfa3e986"
      },
      "source": [
        "batch_size, epochs = 32, 5\n",
        "e = None\n",
        "model = NeuralNet(train_reviews, train_ratings, e)\n",
        "model.build_nn()\n",
        "model.train_nn(batch_size, epochs)\n",
        "\n",
        "# predict\n",
        "test_predictions = model.predict(test_reviews)\n",
        "train_predictions = model.predict(train_reviews)\n",
        "\n",
        "# get ratings from probabilities\n",
        "train_predictions = np.argmax(train_predictions, axis=1)\n",
        "test_predictions = np.argmax(test_predictions, axis=1)\n",
        "train_ratings = np.argmax(np.array(train_ratings), axis=1)\n",
        "\n",
        "# report generation on training data\n",
        "print(f\"Classification report:\\n{metrics.classification_report(train_ratings, train_predictions)}\\n\")\n",
        "metrics.confusion_matrix(train_ratings, train_predictions)"
      ],
      "execution_count": null,
      "outputs": [
        {
          "output_type": "stream",
          "text": [
            "Reviews Shape:  (50000, 31)\n",
            "Ratings Shape:  (50000, 5)\n",
            "Epoch 1/5\n",
            "1563/1563 [==============================] - 73s 44ms/step - loss: 0.8538 - accuracy: 0.6985\n",
            "Epoch 2/5\n",
            "1563/1563 [==============================] - 67s 43ms/step - loss: 0.4484 - accuracy: 0.8426\n",
            "Epoch 3/5\n",
            "1563/1563 [==============================] - 68s 44ms/step - loss: 0.1987 - accuracy: 0.9435\n",
            "Epoch 4/5\n",
            "1563/1563 [==============================] - 68s 44ms/step - loss: 0.0914 - accuracy: 0.9760\n",
            "Epoch 5/5\n",
            "1563/1563 [==============================] - 68s 44ms/step - loss: 0.0492 - accuracy: 0.9881\n",
            "Classification report:\n",
            "              precision    recall  f1-score   support\n",
            "\n",
            "           0       1.00      1.00      1.00      4059\n",
            "           1       1.00      1.00      1.00      2265\n",
            "           2       1.00      0.99      1.00      3612\n",
            "           3       0.99      0.97      0.98      6871\n",
            "           4       0.99      1.00      1.00     33193\n",
            "\n",
            "    accuracy                           0.99     50000\n",
            "   macro avg       1.00      0.99      0.99     50000\n",
            "weighted avg       0.99      0.99      0.99     50000\n",
            "\n",
            "\n"
          ],
          "name": "stdout"
        },
        {
          "output_type": "execute_result",
          "data": {
            "text/plain": [
              "array([[ 4053,     0,     0,     3,     3],\n",
              "       [    2,  2256,     0,     2,     5],\n",
              "       [    1,     1,  3591,     7,    12],\n",
              "       [    0,     0,     2,  6681,   188],\n",
              "       [    0,     1,     4,    55, 33133]])"
            ]
          },
          "metadata": {
            "tags": []
          },
          "execution_count": 15
        }
      ]
    },
    {
      "cell_type": "markdown",
      "metadata": {
        "id": "x2iF2egfUspg"
      },
      "source": [
        "#### Test accuracy model"
      ]
    },
    {
      "cell_type": "code",
      "metadata": {
        "colab": {
          "base_uri": "https://localhost:8080/"
        },
        "id": "foQ-CrQnQHyL",
        "outputId": "34ae1af8-090b-4910-c91e-09d887d22273"
      },
      "source": [
        "gold_test_data = pd.read_csv(\"gold_test.csv\", index_col=0)\n",
        "\n",
        "# separate reviews, ratings\n",
        "gold_test_reviews = gold_test_data.iloc[:, :-1]\n",
        "gold_test_ratings = gold_test_data.iloc[:, -1]\n",
        "gold_test_ratings = pd.get_dummies(gold_test_ratings)\n",
        "\n",
        "# pre-process data\n",
        "gold_test_reviews, tokenizer = preprocess_data(tokenizer, gold_test_reviews, maxlen=train_reviews.shape[1])\n",
        "\n",
        "# predict\n",
        "test_predictions = model.predict(gold_test_reviews)\n",
        "\n",
        "# get ratings from probabilities\n",
        "test_predictions = np.argmax(test_predictions, axis=1)\n",
        "test_ratings = np.argmax(np.array(gold_test_ratings), axis=1)\n",
        "\n",
        "# report generation on training data\n",
        "print(f\"Classification report:\\n{metrics.classification_report(test_ratings, test_predictions)}\\n\")\n",
        "metrics.confusion_matrix(test_ratings, test_predictions)"
      ],
      "execution_count": null,
      "outputs": [
        {
          "output_type": "stream",
          "text": [
            "Classification report:\n",
            "              precision    recall  f1-score   support\n",
            "\n",
            "           0       0.60      0.57      0.59      1271\n",
            "           1       0.22      0.15      0.18       630\n",
            "           2       0.32      0.27      0.29       911\n",
            "           3       0.29      0.25      0.27      1404\n",
            "           4       0.78      0.86      0.82      5784\n",
            "\n",
            "    accuracy                           0.64     10000\n",
            "   macro avg       0.44      0.42      0.43     10000\n",
            "weighted avg       0.61      0.64      0.62     10000\n",
            "\n",
            "\n"
          ],
          "name": "stdout"
        },
        {
          "output_type": "execute_result",
          "data": {
            "text/plain": [
              "array([[ 728,  157,  123,   65,  198],\n",
              "       [ 218,   93,  114,   70,  135],\n",
              "       [ 115,   86,  246,  203,  261],\n",
              "       [  44,   34,  177,  348,  801],\n",
              "       [ 105,   44,  117,  518, 5000]])"
            ]
          },
          "metadata": {
            "tags": []
          },
          "execution_count": 16
        }
      ]
    },
    {
      "cell_type": "markdown",
      "metadata": {
        "id": "uiB2cRSVQlZg"
      },
      "source": [
        "#### Test input"
      ]
    },
    {
      "cell_type": "code",
      "metadata": {
        "id": "d1gB_zAqQkrf",
        "colab": {
          "base_uri": "https://localhost:8080/"
        },
        "outputId": "24980992-0646-4dc3-ce84-ae7cf7dcedc1"
      },
      "source": [
        "# Test input\n",
        "Test = ['this is bad', 'wow nice!', 'this is a great product']\n",
        "test_reviews = pd.DataFrame(Test, columns=['reviews'])\n",
        "\n",
        "# pre-process data\n",
        "test_reviews, tokenizer = preprocess_data(tokenizer, test_reviews, maxlen=train_reviews.shape[1])\n",
        "\n",
        "# predict\n",
        "test_predictions = model.predict(test_reviews)\n",
        "\n",
        "# show probabilities\n",
        "print(test_predictions)"
      ],
      "execution_count": null,
      "outputs": [
        {
          "output_type": "stream",
          "text": [
            "[[5.0704581e-01 1.2625413e-02 4.3810424e-03 9.9125065e-02 3.7682271e-01]\n",
            " [6.5364206e-05 5.0577797e-05 8.5448126e-05 1.5498983e-02 9.8429966e-01]\n",
            " [1.3302909e-03 4.3222381e-04 1.0145135e-03 2.0774772e-02 9.7644824e-01]]\n"
          ],
          "name": "stdout"
        }
      ]
    },
    {
      "cell_type": "markdown",
      "metadata": {
        "id": "DyY0ZJ_U9XV5"
      },
      "source": [
        "#### Testing on custom input GUI"
      ]
    },
    {
      "cell_type": "code",
      "metadata": {
        "id": "zoBnu4pB9eF4"
      },
      "source": [
        "import tabulate\n",
        "def predict_rating(text):\n",
        "    test_reviews = pd.DataFrame([text], columns=['reviews'])\n",
        "\n",
        "    test_reviews, _ = preprocess_data(tokenizer, test_reviews, maxlen=maxlen)\n",
        "\n",
        "    test_predictions = model.predict(test_reviews)\n",
        "    test_ratings = np.argmax(np.array(test_predictions), axis=1) + 1\n",
        "    print(tabulate.tabulate(test_predictions, headers=['Rating-1', 'Rating-2', 'Rating-3', 'Rating-4', 'Rating-5']))\n",
        "    str = f\"\\nPredicted Rating: {test_ratings}\"\n",
        "    return str"
      ],
      "execution_count": null,
      "outputs": []
    },
    {
      "cell_type": "code",
      "metadata": {
        "cellView": "form",
        "id": "7Eg9rqGQ9ckJ",
        "colab": {
          "base_uri": "https://localhost:8080/"
        },
        "outputId": "e18428a2-90cb-48ad-a363-92685fbd3552"
      },
      "source": [
        "#@title Predict\n",
        "InputText = 'this is good' #@param {type: 'string'}\n",
        "output = predict_rating(InputText)\n",
        "\n",
        "print(output)\n"
      ],
      "execution_count": null,
      "outputs": [
        {
          "output_type": "stream",
          "text": [
            "  Rating-1    Rating-2    Rating-3    Rating-4    Rating-5\n",
            "----------  ----------  ----------  ----------  ----------\n",
            " 0.0306781  0.00405348  0.00437353   0.0557132    0.905182\n",
            "\n",
            "Predicted Rating: [5]\n"
          ],
          "name": "stdout"
        }
      ]
    },
    {
      "cell_type": "markdown",
      "metadata": {
        "id": "RmxT71tvjYyw"
      },
      "source": [
        "### Train LSTM Model"
      ]
    },
    {
      "cell_type": "markdown",
      "metadata": {
        "id": "PIRyqQEJkq53"
      },
      "source": [
        "#### Training"
      ]
    },
    {
      "cell_type": "code",
      "metadata": {
        "colab": {
          "base_uri": "https://localhost:8080/"
        },
        "id": "A7uLPiFfsD6Q",
        "outputId": "157efd5b-3d63-4bea-c7b6-23d0bbce1661"
      },
      "source": [
        "batch_size, epochs = 32, 5\n",
        "\n",
        "model = LSTMNet(train_reviews, train_ratings, e)\n",
        "model.build_nn()\n",
        "model.train_nn(batch_size, epochs)\n",
        "\n",
        "# predict\n",
        "test_predictions = model.predict(test_reviews)\n",
        "train_predictions = model.predict(train_reviews)\n",
        "\n",
        "# get ratings from probabilities\n",
        "train_predictions = np.argmax(train_predictions, axis=1)\n",
        "test_predictions = np.argmax(test_predictions, axis=1)\n",
        "train_ratings = np.argmax(np.array(train_ratings), axis=1)\n",
        "\n",
        "# report generation on training data\n",
        "print(f\"Classification report:\\n{metrics.classification_report(train_ratings, train_predictions)}\\n\")\n",
        "metrics.confusion_matrix(train_ratings, train_predictions)"
      ],
      "execution_count": null,
      "outputs": [
        {
          "output_type": "stream",
          "text": [
            "Reviews Shape:  (50000, 31)\n",
            "Ratings Shape:  (50000, 5)\n",
            "Model: \"sequential\"\n",
            "_________________________________________________________________\n",
            "Layer (type)                 Output Shape              Param #   \n",
            "=================================================================\n",
            "embedding (Embedding)        (None, 31, 300)           4786800   \n",
            "_________________________________________________________________\n",
            "lstm (LSTM)                  (None, 128)               219648    \n",
            "_________________________________________________________________\n",
            "dense (Dense)                (None, 5)                 645       \n",
            "_________________________________________________________________\n",
            "Softmax (Activation)         (None, 5)                 0         \n",
            "=================================================================\n",
            "Total params: 5,007,093\n",
            "Trainable params: 5,007,093\n",
            "Non-trainable params: 0\n",
            "_________________________________________________________________\n",
            "None\n",
            "Epoch 1/5\n",
            "1563/1563 [==============================] - 75s 46ms/step - loss: 0.8982 - accuracy: 0.6954\n",
            "Epoch 2/5\n",
            "1563/1563 [==============================] - 71s 46ms/step - loss: 0.6328 - accuracy: 0.7624\n",
            "Epoch 3/5\n",
            "1563/1563 [==============================] - 73s 47ms/step - loss: 0.5370 - accuracy: 0.7988\n",
            "Epoch 4/5\n",
            "1563/1563 [==============================] - 72s 46ms/step - loss: 0.4440 - accuracy: 0.8350\n",
            "Epoch 5/5\n",
            "1563/1563 [==============================] - 72s 46ms/step - loss: 0.3662 - accuracy: 0.8653\n",
            "Classification report:\n",
            "              precision    recall  f1-score   support\n",
            "\n",
            "           0       0.90      0.88      0.89      4059\n",
            "           1       0.68      0.75      0.71      2265\n",
            "           2       0.85      0.67      0.75      3612\n",
            "           3       0.84      0.65      0.73      6871\n",
            "           4       0.93      0.99      0.96     33193\n",
            "\n",
            "    accuracy                           0.90     50000\n",
            "   macro avg       0.84      0.79      0.81     50000\n",
            "weighted avg       0.90      0.90      0.89     50000\n",
            "\n",
            "\n"
          ],
          "name": "stdout"
        },
        {
          "output_type": "execute_result",
          "data": {
            "text/plain": [
              "array([[ 3583,   344,    36,    12,    84],\n",
              "       [  267,  1691,   205,    35,    67],\n",
              "       [   62,   392,  2411,   500,   247],\n",
              "       [   16,    43,   153,  4476,  2183],\n",
              "       [   34,    18,    19,   324, 32798]])"
            ]
          },
          "metadata": {
            "tags": []
          },
          "execution_count": 15
        }
      ]
    },
    {
      "cell_type": "markdown",
      "metadata": {
        "id": "MAhqvraOovkK"
      },
      "source": [
        "#### Testing"
      ]
    },
    {
      "cell_type": "code",
      "metadata": {
        "colab": {
          "base_uri": "https://localhost:8080/"
        },
        "id": "kNSqRS1youhm",
        "outputId": "ef7043c8-174b-4d21-cf36-81499331b8e5"
      },
      "source": [
        "gold_test_data = pd.read_csv(\"gold_test.csv\", index_col=0)\n",
        "\n",
        "# separate reviews, ratings\n",
        "gold_test_reviews = gold_test_data.iloc[:, :-1]\n",
        "gold_test_ratings = gold_test_data.iloc[:, -1]\n",
        "gold_test_ratings = pd.get_dummies(gold_test_ratings)\n",
        "\n",
        "# pre-process data\n",
        "gold_test_reviews, tokenizer = preprocess_data(tokenizer, gold_test_reviews, maxlen=train_reviews.shape[1])\n",
        "\n",
        "# predict\n",
        "test_predictions = model.predict(gold_test_reviews)\n",
        "\n",
        "# get ratings from probabilities\n",
        "test_predictions = np.argmax(test_predictions, axis=1)\n",
        "test_ratings = np.argmax(np.array(gold_test_ratings), axis=1)\n",
        "\n",
        "# report generation on training data\n",
        "print(f\"Classification report:\\n{metrics.classification_report(test_ratings, test_predictions)}\\n\")\n",
        "metrics.confusion_matrix(test_ratings, test_predictions)"
      ],
      "execution_count": null,
      "outputs": [
        {
          "output_type": "stream",
          "text": [
            "Classification report:\n",
            "              precision    recall  f1-score   support\n",
            "\n",
            "           0       0.66      0.60      0.63      1271\n",
            "           1       0.24      0.27      0.25       630\n",
            "           2       0.38      0.27      0.31       911\n",
            "           3       0.36      0.27      0.31      1404\n",
            "           4       0.81      0.90      0.86      5784\n",
            "\n",
            "    accuracy                           0.68     10000\n",
            "   macro avg       0.49      0.46      0.47     10000\n",
            "weighted avg       0.65      0.68      0.66     10000\n",
            "\n",
            "\n"
          ],
          "name": "stdout"
        },
        {
          "output_type": "execute_result",
          "data": {
            "text/plain": [
              "array([[ 761,  274,   69,   47,  120],\n",
              "       [ 186,  167,  121,   50,  106],\n",
              "       [ 100,  170,  246,  200,  195],\n",
              "       [  37,   52,  141,  377,  797],\n",
              "       [  67,   43,   76,  364, 5234]])"
            ]
          },
          "metadata": {
            "tags": []
          },
          "execution_count": 16
        }
      ]
    },
    {
      "cell_type": "markdown",
      "metadata": {
        "id": "ffNSrm9rt2kA"
      },
      "source": [
        "### Train RNN Model"
      ]
    },
    {
      "cell_type": "markdown",
      "metadata": {
        "id": "_dhveSHet2kD"
      },
      "source": [
        "#### Training"
      ]
    },
    {
      "cell_type": "code",
      "metadata": {
        "id": "DIJE5cUxt2kJ",
        "colab": {
          "base_uri": "https://localhost:8080/"
        },
        "outputId": "0048affe-122d-4b0e-9c77-6b15e5a56642"
      },
      "source": [
        "batch_size, epochs = 32, 5\n",
        "\n",
        "model = RNNNet(train_reviews, train_ratings, e)\n",
        "model.build_nn()\n",
        "model.train_nn(batch_size, epochs)\n",
        "\n",
        "# predict\n",
        "test_predictions = model.predict(test_reviews)\n",
        "train_predictions = model.predict(train_reviews)\n",
        "\n",
        "# get ratings from probabilities\n",
        "train_predictions = np.argmax(train_predictions, axis=1)\n",
        "test_predictions = np.argmax(test_predictions, axis=1)\n",
        "train_ratings = np.argmax(np.array(train_ratings), axis=1)\n",
        "\n",
        "# report generation on training data\n",
        "print(f\"Classification report:\\n{metrics.classification_report(train_ratings, train_predictions)}\\n\")\n",
        "metrics.confusion_matrix(train_ratings, train_predictions)"
      ],
      "execution_count": null,
      "outputs": [
        {
          "output_type": "stream",
          "text": [
            "Reviews Shape:  (50000, 31)\n",
            "Ratings Shape:  (50000, 5)\n",
            "Model: \"sequential\"\n",
            "_________________________________________________________________\n",
            "Layer (type)                 Output Shape              Param #   \n",
            "=================================================================\n",
            "embedding (Embedding)        (None, 31, 300)           4786800   \n",
            "_________________________________________________________________\n",
            "simple_rnn (SimpleRNN)       (None, 128)               54912     \n",
            "_________________________________________________________________\n",
            "dense (Dense)                (None, 5)                 645       \n",
            "_________________________________________________________________\n",
            "Softmax (Activation)         (None, 5)                 0         \n",
            "=================================================================\n",
            "Total params: 4,842,357\n",
            "Trainable params: 4,842,357\n",
            "Non-trainable params: 0\n",
            "_________________________________________________________________\n",
            "None\n",
            "Epoch 1/5\n",
            "1563/1563 [==============================] - 100s 63ms/step - loss: 1.0820 - accuracy: 0.6582\n",
            "Epoch 2/5\n",
            "1563/1563 [==============================] - 99s 63ms/step - loss: 0.9768 - accuracy: 0.6641\n",
            "Epoch 3/5\n",
            "1563/1563 [==============================] - 97s 62ms/step - loss: 0.9411 - accuracy: 0.6711\n",
            "Epoch 4/5\n",
            "1563/1563 [==============================] - 97s 62ms/step - loss: 0.8937 - accuracy: 0.6843\n",
            "Epoch 5/5\n",
            "1563/1563 [==============================] - 97s 62ms/step - loss: 0.8205 - accuracy: 0.6998\n",
            "Classification report:\n",
            "              precision    recall  f1-score   support\n",
            "\n",
            "           0       0.35      0.73      0.47      4059\n",
            "           1       0.15      0.01      0.01      2265\n",
            "           2       0.22      0.05      0.08      3612\n",
            "           3       0.29      0.01      0.02      6871\n",
            "           4       0.79      0.97      0.87     33193\n",
            "\n",
            "    accuracy                           0.71     50000\n",
            "   macro avg       0.36      0.35      0.29     50000\n",
            "weighted avg       0.62      0.71      0.63     50000\n",
            "\n",
            "\n"
          ],
          "name": "stdout"
        },
        {
          "output_type": "execute_result",
          "data": {
            "text/plain": [
              "array([[ 2964,    24,   141,    36,   894],\n",
              "       [ 1446,    13,    99,    35,   672],\n",
              "       [ 1940,    19,   165,    55,  1433],\n",
              "       [ 1257,    17,   148,    72,  5377],\n",
              "       [  887,    14,   182,    53, 32057]])"
            ]
          },
          "metadata": {
            "tags": []
          },
          "execution_count": 15
        }
      ]
    },
    {
      "cell_type": "markdown",
      "metadata": {
        "id": "_Zpgo68Ut2kN"
      },
      "source": [
        "#### Testing"
      ]
    },
    {
      "cell_type": "code",
      "metadata": {
        "id": "tR3H2NpLt2kP",
        "colab": {
          "base_uri": "https://localhost:8080/"
        },
        "outputId": "7d695db1-05aa-4074-a440-d46334a81b21"
      },
      "source": [
        "gold_test_data = pd.read_csv(\"gold_test.csv\", index_col=0)\n",
        "\n",
        "# separate reviews, ratings\n",
        "gold_test_reviews = gold_test_data.iloc[:, :-1]\n",
        "gold_test_ratings = gold_test_data.iloc[:, -1]\n",
        "gold_test_ratings = pd.get_dummies(gold_test_ratings)\n",
        "\n",
        "# pre-process data\n",
        "gold_test_reviews, tokenizer = preprocess_data(tokenizer, gold_test_reviews, maxlen=train_reviews.shape[1])\n",
        "\n",
        "# predict\n",
        "test_predictions = model.predict(gold_test_reviews)\n",
        "\n",
        "# get ratings from probabilities\n",
        "test_predictions = np.argmax(test_predictions, axis=1)\n",
        "test_ratings = np.argmax(np.array(gold_test_ratings), axis=1)\n",
        "\n",
        "# report generation on training data\n",
        "print(f\"Classification report:\\n{metrics.classification_report(test_ratings, test_predictions)}\\n\")\n",
        "metrics.confusion_matrix(test_ratings, test_predictions)"
      ],
      "execution_count": null,
      "outputs": [
        {
          "output_type": "stream",
          "text": [
            "Classification report:\n",
            "              precision    recall  f1-score   support\n",
            "\n",
            "           0       0.37      0.70      0.49      1271\n",
            "           1       0.19      0.01      0.02       630\n",
            "           2       0.24      0.05      0.08       911\n",
            "           3       0.25      0.01      0.02      1404\n",
            "           4       0.74      0.94      0.83      5784\n",
            "\n",
            "    accuracy                           0.64     10000\n",
            "   macro avg       0.36      0.34      0.29     10000\n",
            "weighted avg       0.55      0.64      0.55     10000\n",
            "\n",
            "\n"
          ],
          "name": "stdout"
        },
        {
          "output_type": "execute_result",
          "data": {
            "text/plain": [
              "array([[ 893,   10,   45,   14,  309],\n",
              "       [ 405,    5,   19,    5,  196],\n",
              "       [ 481,    8,   41,   12,  369],\n",
              "       [ 324,    3,   28,   16, 1033],\n",
              "       [ 291,    1,   36,   16, 5440]])"
            ]
          },
          "metadata": {
            "tags": []
          },
          "execution_count": 16
        }
      ]
    },
    {
      "cell_type": "markdown",
      "metadata": {
        "id": "pwBUlb6e08Jc"
      },
      "source": [
        "### Train Bi-LSTM Model\n"
      ]
    },
    {
      "cell_type": "markdown",
      "metadata": {
        "id": "QQfAyZJw02Wi"
      },
      "source": [
        "#### Training\n"
      ]
    },
    {
      "cell_type": "code",
      "metadata": {
        "colab": {
          "base_uri": "https://localhost:8080/"
        },
        "id": "gDGrEbM-0rCl",
        "outputId": "894fb7b8-7e0b-4d2c-9122-3891d6548c4b"
      },
      "source": [
        "batch_size, epochs = 32, 5\n",
        "\n",
        "model = BiLSTMNet(train_reviews, train_ratings, e)\n",
        "model.build_nn()\n",
        "model.train_nn(batch_size, epochs)\n",
        "\n",
        "# predict\n",
        "test_predictions = model.predict(test_reviews)\n",
        "train_predictions = model.predict(train_reviews)\n",
        "\n",
        "# get ratings from probabilities\n",
        "train_predictions = np.argmax(train_predictions, axis=1)\n",
        "test_predictions = np.argmax(test_predictions, axis=1)\n",
        "train_ratings = np.argmax(np.array(train_ratings), axis=1)\n",
        "\n",
        "# report generation on training data\n",
        "print(f\"Classification report:\\n{metrics.classification_report(train_ratings, train_predictions)}\\n\")\n",
        "metrics.confusion_matrix(train_ratings, train_predictions)"
      ],
      "execution_count": null,
      "outputs": [
        {
          "output_type": "stream",
          "text": [
            "Reviews Shape:  (50000, 31)\n",
            "Ratings Shape:  (50000, 5)\n",
            "Model: \"sequential\"\n",
            "_________________________________________________________________\n",
            "Layer (type)                 Output Shape              Param #   \n",
            "=================================================================\n",
            "embedding (Embedding)        (None, 31, 300)           4786800   \n",
            "_________________________________________________________________\n",
            "bidirectional (Bidirectional (None, 256)               439296    \n",
            "_________________________________________________________________\n",
            "dense (Dense)                (None, 5)                 1285      \n",
            "_________________________________________________________________\n",
            "Softmax (Activation)         (None, 5)                 0         \n",
            "=================================================================\n",
            "Total params: 5,227,381\n",
            "Trainable params: 5,227,381\n",
            "Non-trainable params: 0\n",
            "_________________________________________________________________\n",
            "None\n",
            "Epoch 1/5\n",
            "1563/1563 [==============================] - 82s 49ms/step - loss: 0.8207 - accuracy: 0.7065\n",
            "Epoch 2/5\n",
            "1563/1563 [==============================] - 78s 50ms/step - loss: 0.6017 - accuracy: 0.7702\n",
            "Epoch 3/5\n",
            "1563/1563 [==============================] - 78s 50ms/step - loss: 0.4978 - accuracy: 0.8132\n",
            "Epoch 4/5\n",
            "1563/1563 [==============================] - 78s 50ms/step - loss: 0.3854 - accuracy: 0.8585\n",
            "Epoch 5/5\n",
            "1563/1563 [==============================] - 79s 50ms/step - loss: 0.2943 - accuracy: 0.8929\n",
            "Classification report:\n",
            "              precision    recall  f1-score   support\n",
            "\n",
            "           0       0.95      0.92      0.94      4059\n",
            "           1       0.87      0.79      0.83      2265\n",
            "           2       0.81      0.87      0.84      3612\n",
            "           3       0.86      0.78      0.82      6871\n",
            "           4       0.96      0.98      0.97     33193\n",
            "\n",
            "    accuracy                           0.93     50000\n",
            "   macro avg       0.89      0.87      0.88     50000\n",
            "weighted avg       0.93      0.93      0.93     50000\n",
            "\n",
            "\n"
          ],
          "name": "stdout"
        },
        {
          "output_type": "execute_result",
          "data": {
            "text/plain": [
              "array([[ 3747,   166,    92,    12,    42],\n",
              "       [  146,  1794,   270,    36,    19],\n",
              "       [   37,    91,  3140,   249,    95],\n",
              "       [    3,    14,   305,  5334,  1215],\n",
              "       [   19,     6,    74,   586, 32508]])"
            ]
          },
          "metadata": {
            "tags": []
          },
          "execution_count": 15
        }
      ]
    },
    {
      "cell_type": "markdown",
      "metadata": {
        "id": "oJYLHRMe6JYZ"
      },
      "source": [
        "#### Testing"
      ]
    },
    {
      "cell_type": "code",
      "metadata": {
        "colab": {
          "base_uri": "https://localhost:8080/"
        },
        "id": "4m18uDQe6MYq",
        "outputId": "79803f04-e7b1-4f58-c48f-a3398ce9534d"
      },
      "source": [
        "gold_test_data = pd.read_csv(\"gold_test.csv\", index_col=0)\n",
        "\n",
        "# separate reviews, ratings\n",
        "gold_test_reviews = gold_test_data.iloc[:, :-1]\n",
        "gold_test_ratings = gold_test_data.iloc[:, -1]\n",
        "gold_test_ratings = pd.get_dummies(gold_test_ratings)\n",
        "\n",
        "# pre-process data\n",
        "gold_test_reviews, tokenizer = preprocess_data(tokenizer, gold_test_reviews, maxlen=train_reviews.shape[1])\n",
        "\n",
        "# predict\n",
        "test_predictions = model.predict(gold_test_reviews)\n",
        "\n",
        "# get ratings from probabilities\n",
        "test_predictions = np.argmax(test_predictions, axis=1)\n",
        "test_ratings = np.argmax(np.array(gold_test_ratings), axis=1)\n",
        "\n",
        "# report generation on training data\n",
        "print(f\"Classification report:\\n{metrics.classification_report(test_ratings, test_predictions)}\\n\")\n",
        "metrics.confusion_matrix(test_ratings, test_predictions)"
      ],
      "execution_count": null,
      "outputs": [
        {
          "output_type": "stream",
          "text": [
            "Classification report:\n",
            "              precision    recall  f1-score   support\n",
            "\n",
            "           0       0.66      0.58      0.62      1271\n",
            "           1       0.23      0.19      0.21       630\n",
            "           2       0.33      0.40      0.36       911\n",
            "           3       0.33      0.28      0.30      1404\n",
            "           4       0.83      0.86      0.84      5784\n",
            "\n",
            "    accuracy                           0.66     10000\n",
            "   macro avg       0.47      0.46      0.47     10000\n",
            "weighted avg       0.65      0.66      0.65     10000\n",
            "\n",
            "\n"
          ],
          "name": "stdout"
        },
        {
          "output_type": "execute_result",
          "data": {
            "text/plain": [
              "array([[ 738,  224,  166,   36,  107],\n",
              "       [ 196,  122,  190,   50,   72],\n",
              "       [  91,  114,  363,  185,  158],\n",
              "       [  25,   34,  245,  395,  705],\n",
              "       [  70,   46,  152,  534, 4982]])"
            ]
          },
          "metadata": {
            "tags": []
          },
          "execution_count": 16
        }
      ]
    },
    {
      "cell_type": "markdown",
      "metadata": {
        "id": "yure0yC-Pcx5"
      },
      "source": [
        "### Train GRU Model\n"
      ]
    },
    {
      "cell_type": "markdown",
      "metadata": {
        "id": "Nrr7DoVDPiJf"
      },
      "source": [
        "#### Training"
      ]
    },
    {
      "cell_type": "code",
      "metadata": {
        "colab": {
          "base_uri": "https://localhost:8080/"
        },
        "id": "MRn5KUHVPj0o",
        "outputId": "26c31db1-7633-4aba-96e9-21d0f0dd8cdc"
      },
      "source": [
        "batch_size, epochs = 32, 5\n",
        "\n",
        "model = GRUmodel(train_reviews, train_ratings, e)\n",
        "model.build_nn()\n",
        "model.train_nn(batch_size, epochs)\n",
        "\n",
        "# predict\n",
        "test_predictions = model.predict(test_reviews)\n",
        "train_predictions = model.predict(train_reviews)\n",
        "\n",
        "# get ratings from probabilities\n",
        "train_predictions = np.argmax(train_predictions, axis=1)\n",
        "test_predictions = np.argmax(test_predictions, axis=1)\n",
        "train_ratings = np.argmax(np.array(train_ratings), axis=1)\n",
        "\n",
        "# report generation on training data\n",
        "print(f\"Classification report:\\n{metrics.classification_report(train_ratings, train_predictions)}\\n\")\n",
        "metrics.confusion_matrix(train_ratings, train_predictions)"
      ],
      "execution_count": null,
      "outputs": [
        {
          "output_type": "stream",
          "text": [
            "Reviews Shape:  (50000, 31)\n",
            "Ratings Shape:  (50000, 5)\n",
            "Model: \"sequential\"\n",
            "_________________________________________________________________\n",
            "Layer (type)                 Output Shape              Param #   \n",
            "=================================================================\n",
            "embedding (Embedding)        (None, 31, 300)           4786800   \n",
            "_________________________________________________________________\n",
            "gru (GRU)                    (None, 128)               165120    \n",
            "_________________________________________________________________\n",
            "dense (Dense)                (None, 5)                 645       \n",
            "_________________________________________________________________\n",
            "Softmax (Activation)         (None, 5)                 0         \n",
            "=================================================================\n",
            "Total params: 4,952,565\n",
            "Trainable params: 4,952,565\n",
            "Non-trainable params: 0\n",
            "_________________________________________________________________\n",
            "None\n",
            "Epoch 1/5\n",
            "1563/1563 [==============================] - 108s 48ms/step - loss: 0.9218 - accuracy: 0.6909\n",
            "Epoch 2/5\n",
            "1563/1563 [==============================] - 75s 48ms/step - loss: 0.6029 - accuracy: 0.7719\n",
            "Epoch 3/5\n",
            "1563/1563 [==============================] - 75s 48ms/step - loss: 0.4925 - accuracy: 0.8146\n",
            "Epoch 4/5\n",
            "1563/1563 [==============================] - 76s 49ms/step - loss: 0.3764 - accuracy: 0.8624\n",
            "Epoch 5/5\n",
            "1563/1563 [==============================] - 76s 49ms/step - loss: 0.2812 - accuracy: 0.8993\n",
            "Classification report:\n",
            "              precision    recall  f1-score   support\n",
            "\n",
            "           0       0.91      0.95      0.93      4059\n",
            "           1       0.87      0.81      0.84      2265\n",
            "           2       0.87      0.83      0.85      3612\n",
            "           3       0.91      0.73      0.81      6871\n",
            "           4       0.95      0.99      0.97     33193\n",
            "\n",
            "    accuracy                           0.93     50000\n",
            "   macro avg       0.90      0.86      0.88     50000\n",
            "weighted avg       0.93      0.93      0.93     50000\n",
            "\n",
            "\n"
          ],
          "name": "stdout"
        },
        {
          "output_type": "execute_result",
          "data": {
            "text/plain": [
              "array([[ 3868,    82,    46,    13,    50],\n",
              "       [  259,  1832,   109,    24,    41],\n",
              "       [   86,   172,  2981,   191,   182],\n",
              "       [   27,    21,   232,  5021,  1570],\n",
              "       [   28,     3,    55,   245, 32862]])"
            ]
          },
          "metadata": {
            "tags": []
          },
          "execution_count": 10
        }
      ]
    },
    {
      "cell_type": "markdown",
      "metadata": {
        "id": "QPLYwLDdPrHu"
      },
      "source": [
        "#### Testing"
      ]
    },
    {
      "cell_type": "code",
      "metadata": {
        "colab": {
          "base_uri": "https://localhost:8080/"
        },
        "id": "C7ExQM0jPs5v",
        "outputId": "5c41fccb-9468-4966-c134-99b91d83c34c"
      },
      "source": [
        "gold_test_data = pd.read_csv(\"gold_test.csv\", index_col=0)\n",
        "\n",
        "# separate reviews, ratings\n",
        "gold_test_reviews = gold_test_data.iloc[:, :-1]\n",
        "gold_test_ratings = gold_test_data.iloc[:, -1]\n",
        "gold_test_ratings = pd.get_dummies(gold_test_ratings)\n",
        "\n",
        "# pre-process data\n",
        "gold_test_reviews, tokenizer = preprocess_data(tokenizer, gold_test_reviews, maxlen=train_reviews.shape[1])\n",
        "\n",
        "# predict\n",
        "test_predictions = model.predict(gold_test_reviews)\n",
        "\n",
        "# get ratings from probabilities\n",
        "test_predictions = np.argmax(test_predictions, axis=1)\n",
        "test_ratings = np.argmax(np.array(gold_test_ratings), axis=1)\n",
        "\n",
        "# report generation on training data\n",
        "print(f\"Classification report:\\n{metrics.classification_report(test_ratings, test_predictions)}\\n\")\n",
        "metrics.confusion_matrix(test_ratings, test_predictions)"
      ],
      "execution_count": null,
      "outputs": [
        {
          "output_type": "stream",
          "text": [
            "Classification report:\n",
            "              precision    recall  f1-score   support\n",
            "\n",
            "           0       0.62      0.64      0.63      1271\n",
            "           1       0.24      0.21      0.23       630\n",
            "           2       0.35      0.29      0.32       911\n",
            "           3       0.32      0.22      0.26      1404\n",
            "           4       0.81      0.89      0.85      5784\n",
            "\n",
            "    accuracy                           0.67     10000\n",
            "   macro avg       0.47      0.45      0.46     10000\n",
            "weighted avg       0.64      0.67      0.65     10000\n",
            "\n",
            "\n"
          ],
          "name": "stdout"
        },
        {
          "output_type": "execute_result",
          "data": {
            "text/plain": [
              "array([[ 814,  192,   98,   48,  119],\n",
              "       [ 216,  133,  123,   53,  105],\n",
              "       [ 129,  140,  268,  164,  210],\n",
              "       [  55,   35,  186,  312,  816],\n",
              "       [  94,   43,   85,  398, 5164]])"
            ]
          },
          "metadata": {
            "tags": []
          },
          "execution_count": 11
        }
      ]
    },
    {
      "cell_type": "markdown",
      "metadata": {
        "id": "q5OCIWw_6VWI"
      },
      "source": [
        "### Train Bi-GRU Model"
      ]
    },
    {
      "cell_type": "markdown",
      "metadata": {
        "id": "e87HOz1C6ZrL"
      },
      "source": [
        "#### Training"
      ]
    },
    {
      "cell_type": "code",
      "metadata": {
        "colab": {
          "base_uri": "https://localhost:8080/"
        },
        "id": "QkPL-ADb6Yin",
        "outputId": "add2af19-a581-419f-dc67-dfa477e45438"
      },
      "source": [
        "batch_size, epochs = 32, 5\n",
        "\n",
        "model = BiGRUmodel(train_reviews, train_ratings, e)\n",
        "model.build_nn()\n",
        "model.train_nn(batch_size, epochs)\n",
        "\n",
        "# predict\n",
        "test_predictions = model.predict(test_reviews)\n",
        "train_predictions = model.predict(train_reviews)\n",
        "\n",
        "# get ratings from probabilities\n",
        "train_predictions = np.argmax(train_predictions, axis=1)\n",
        "test_predictions = np.argmax(test_predictions, axis=1)\n",
        "train_ratings = np.argmax(np.array(train_ratings), axis=1)\n",
        "\n",
        "# report generation on training data\n",
        "print(f\"Classification report:\\n{metrics.classification_report(train_ratings, train_predictions)}\\n\")\n",
        "metrics.confusion_matrix(train_ratings, train_predictions)"
      ],
      "execution_count": 21,
      "outputs": [
        {
          "output_type": "stream",
          "text": [
            "Reviews Shape:  (50000, 31)\n",
            "Ratings Shape:  (50000, 5)\n",
            "Model: \"sequential\"\n",
            "_________________________________________________________________\n",
            "Layer (type)                 Output Shape              Param #   \n",
            "=================================================================\n",
            "embedding (Embedding)        (None, 31, 300)           4786800   \n",
            "_________________________________________________________________\n",
            "bidirectional (Bidirectional (None, 256)               330240    \n",
            "_________________________________________________________________\n",
            "dense (Dense)                (None, 5)                 1285      \n",
            "_________________________________________________________________\n",
            "Softmax (Activation)         (None, 5)                 0         \n",
            "=================================================================\n",
            "Total params: 5,118,325\n",
            "Trainable params: 331,525\n",
            "Non-trainable params: 4,786,800\n",
            "_________________________________________________________________\n",
            "None\n",
            "Epoch 1/5\n",
            "1563/1563 [==============================] - 45s 7ms/step - loss: 0.8510 - accuracy: 0.6974\n",
            "Epoch 2/5\n",
            "1563/1563 [==============================] - 11s 7ms/step - loss: 0.6837 - accuracy: 0.7450\n",
            "Epoch 3/5\n",
            "1563/1563 [==============================] - 11s 7ms/step - loss: 0.6339 - accuracy: 0.7631\n",
            "Epoch 4/5\n",
            "1563/1563 [==============================] - 11s 7ms/step - loss: 0.5858 - accuracy: 0.7788\n",
            "Epoch 5/5\n",
            "1563/1563 [==============================] - 11s 7ms/step - loss: 0.5387 - accuracy: 0.7933\n",
            "Classification report:\n",
            "              precision    recall  f1-score   support\n",
            "\n",
            "           0       0.72      0.87      0.79      4059\n",
            "           1       0.62      0.27      0.37      2265\n",
            "           2       0.60      0.56      0.58      3612\n",
            "           3       0.74      0.30      0.42      6871\n",
            "           4       0.86      0.99      0.92     33193\n",
            "\n",
            "    accuracy                           0.82     50000\n",
            "   macro avg       0.71      0.59      0.62     50000\n",
            "weighted avg       0.80      0.82      0.79     50000\n",
            "\n",
            "\n"
          ],
          "name": "stdout"
        },
        {
          "output_type": "execute_result",
          "data": {
            "text/plain": [
              "array([[ 3515,   150,   165,    17,   212],\n",
              "       [  921,   602,   495,    42,   205],\n",
              "       [  334,   180,  2007,   356,   735],\n",
              "       [   65,    29,   542,  2031,  4204],\n",
              "       [   52,     6,   141,   294, 32700]])"
            ]
          },
          "metadata": {
            "tags": []
          },
          "execution_count": 21
        }
      ]
    },
    {
      "cell_type": "markdown",
      "metadata": {
        "id": "jrpft3716fnl"
      },
      "source": [
        "#### Testing"
      ]
    },
    {
      "cell_type": "code",
      "metadata": {
        "colab": {
          "base_uri": "https://localhost:8080/"
        },
        "id": "U8CPioHm6hSy",
        "outputId": "dc79f5aa-3285-4492-b54c-930ded9a63c9"
      },
      "source": [
        "gold_test_data = pd.read_csv(\"gold_test.csv\", index_col=0)\n",
        "\n",
        "# separate reviews, ratings\n",
        "gold_test_reviews = gold_test_data.iloc[:, :-1]\n",
        "gold_test_ratings = gold_test_data.iloc[:, -1]\n",
        "gold_test_ratings = pd.get_dummies(gold_test_ratings)\n",
        "\n",
        "# pre-process data\n",
        "gold_test_reviews, tokenizer = preprocess_data(tokenizer, gold_test_reviews, maxlen=train_reviews.shape[1])\n",
        "\n",
        "# predict\n",
        "test_predictions = model.predict(gold_test_reviews)\n",
        "\n",
        "# get ratings from probabilities\n",
        "test_predictions = np.argmax(test_predictions, axis=1)\n",
        "test_ratings = np.argmax(np.array(gold_test_ratings), axis=1)\n",
        "\n",
        "# report generation on training data\n",
        "print(f\"Classification report:\\n{metrics.classification_report(test_ratings, test_predictions)}\\n\")\n",
        "metrics.confusion_matrix(test_ratings, test_predictions)"
      ],
      "execution_count": 22,
      "outputs": [
        {
          "output_type": "stream",
          "text": [
            "Classification report:\n",
            "              precision    recall  f1-score   support\n",
            "\n",
            "           0       0.65      0.74      0.69      1271\n",
            "           1       0.33      0.12      0.17       630\n",
            "           2       0.41      0.39      0.40       911\n",
            "           3       0.48      0.17      0.25      1404\n",
            "           4       0.79      0.96      0.87      5784\n",
            "\n",
            "    accuracy                           0.71     10000\n",
            "   macro avg       0.53      0.47      0.48     10000\n",
            "weighted avg       0.67      0.71      0.67     10000\n",
            "\n",
            "\n"
          ],
          "name": "stdout"
        },
        {
          "output_type": "execute_result",
          "data": {
            "text/plain": [
              "array([[ 940,   74,   97,   17,  143],\n",
              "       [ 270,   74,  155,   24,  107],\n",
              "       [ 154,   52,  351,  110,  244],\n",
              "       [  34,   11,  175,  242,  942],\n",
              "       [  54,   13,   69,  109, 5539]])"
            ]
          },
          "metadata": {
            "tags": []
          },
          "execution_count": 22
        }
      ]
    },
    {
      "cell_type": "markdown",
      "metadata": {
        "id": "3FvG8LECtasu"
      },
      "source": [
        "### Save Model"
      ]
    },
    {
      "cell_type": "code",
      "metadata": {
        "colab": {
          "base_uri": "https://localhost:8080/"
        },
        "id": "2USJAdpatdub",
        "outputId": "ddd04938-918e-488a-cda9-19c3f78cfa2b"
      },
      "source": [
        "model.model.save('model')"
      ],
      "execution_count": 23,
      "outputs": [
        {
          "output_type": "stream",
          "text": [
            "WARNING:absl:Found untraced functions such as gru_cell_1_layer_call_and_return_conditional_losses, gru_cell_1_layer_call_fn, gru_cell_2_layer_call_and_return_conditional_losses, gru_cell_2_layer_call_fn, gru_cell_1_layer_call_fn while saving (showing 5 of 10). These functions will not be directly callable after loading.\n",
            "WARNING:absl:Found untraced functions such as gru_cell_1_layer_call_and_return_conditional_losses, gru_cell_1_layer_call_fn, gru_cell_2_layer_call_and_return_conditional_losses, gru_cell_2_layer_call_fn, gru_cell_1_layer_call_fn while saving (showing 5 of 10). These functions will not be directly callable after loading.\n"
          ],
          "name": "stderr"
        },
        {
          "output_type": "stream",
          "text": [
            "INFO:tensorflow:Assets written to: model/assets\n"
          ],
          "name": "stdout"
        },
        {
          "output_type": "stream",
          "text": [
            "INFO:tensorflow:Assets written to: model/assets\n"
          ],
          "name": "stderr"
        }
      ]
    },
    {
      "cell_type": "code",
      "metadata": {
        "id": "qyQbA9Rq2aSz"
      },
      "source": [
        "!tar -czf model.tar.gz model/"
      ],
      "execution_count": 24,
      "outputs": []
    },
    {
      "cell_type": "code",
      "metadata": {
        "colab": {
          "base_uri": "https://localhost:8080/"
        },
        "id": "5Y21WsTN3qK6",
        "outputId": "4ec2886d-d376-4969-fd55-24ecd2c0740d"
      },
      "source": [
        "import tensorflow as tf\n",
        "print(tf.__version__)"
      ],
      "execution_count": 25,
      "outputs": [
        {
          "output_type": "stream",
          "text": [
            "2.4.1\n"
          ],
          "name": "stdout"
        }
      ]
    },
    {
      "cell_type": "code",
      "metadata": {
        "id": "Sk0pgB_REpb3"
      },
      "source": [
        "import pickle \n",
        "\n",
        "with open(r\"tokenizer.pkl\", \"wb\") as output_file:\n",
        "  pickle.dump(tokenizer, output_file)"
      ],
      "execution_count": 26,
      "outputs": []
    },
    {
      "cell_type": "code",
      "metadata": {
        "colab": {
          "base_uri": "https://localhost:8080/"
        },
        "id": "Be7go5zCFJZf",
        "outputId": "eb45c854-fe37-4fac-f842-0da8b796c1e6"
      },
      "source": [
        "with open(r\"tokenizer.pkl\", \"rb\") as input_file:\n",
        "  x = pickle.load(input_file)\n",
        "  \n",
        "print(x)\n"
      ],
      "execution_count": 27,
      "outputs": [
        {
          "output_type": "stream",
          "text": [
            "<keras_preprocessing.text.Tokenizer object at 0x7f5f7d9cd790>\n"
          ],
          "name": "stdout"
        }
      ]
    },
    {
      "cell_type": "markdown",
      "metadata": {
        "id": "WMt0-JVhdVXN"
      },
      "source": [
        "### Confusion Matrix"
      ]
    },
    {
      "cell_type": "code",
      "metadata": {
        "colab": {
          "base_uri": "https://localhost:8080/",
          "height": 445
        },
        "id": "4bWwhachdXN7",
        "outputId": "56145c35-c87b-47b0-b96b-197e8143fcb0"
      },
      "source": [
        "import seaborn as sn\n",
        "import pandas as pd\n",
        "import matplotlib.pyplot as plt\n",
        "# array = metrics.confusion_matrix(test_ratings, test_predictions)\n",
        "array = metrics.confusion_matrix(test_ratings, test_predictions)\n",
        "df_cm = pd.DataFrame(array, index = [i for i in range(1, 6)],\n",
        "                  columns = [i for i in range(1, 6)])\n",
        "plt.figure(figsize = (10,7))\n",
        "sn.heatmap(df_cm, annot=True)\n"
      ],
      "execution_count": 30,
      "outputs": [
        {
          "output_type": "execute_result",
          "data": {
            "text/plain": [
              "<matplotlib.axes._subplots.AxesSubplot at 0x7f5f7c977350>"
            ]
          },
          "metadata": {
            "tags": []
          },
          "execution_count": 30
        },
        {
          "output_type": "display_data",
          "data": {
            "image/png": "[encoded data removed]",
            "text/plain": [
              "<Figure size 720x504 with 2 Axes>"
            ]
          },
          "metadata": {
            "tags": [],
            "needs_background": "light"
          }
        }
      ]
    },
    {
      "cell_type": "markdown",
      "metadata": {
        "id": "95xAWH6bekc5"
      },
      "source": [
        "### Test input"
      ]
    },
    {
      "cell_type": "code",
      "metadata": {
        "id": "fRiR7zu-ekc_"
      },
      "source": [
        "# Test input\n",
        "Test = ['this is bad', 'wow nice!', 'this is a great product']\n",
        "test_reviews = pd.DataFrame(Test, columns=['reviews'])\n",
        "\n",
        "# pre-process data\n",
        "test_reviews, tokenizer = preprocess_data(tokenizer, test_reviews, maxlen=train_reviews.shape[1])\n",
        "\n",
        "# predict\n",
        "test_predictions = model.predict(test_reviews)\n",
        "\n",
        "# show probabilities\n",
        "print(test_predictions)"
      ],
      "execution_count": null,
      "outputs": []
    },
    {
      "cell_type": "markdown",
      "metadata": {
        "id": "uOz_Tq6xekdE"
      },
      "source": [
        "### Testing on custom input GUI"
      ]
    },
    {
      "cell_type": "code",
      "metadata": {
        "id": "vRaGh3XfekdJ"
      },
      "source": [
        "import tabulate\n",
        "def predict_rating(text):\n",
        "    test_reviews = pd.DataFrame([text], columns=['reviews'])\n",
        "\n",
        "    test_reviews, _ = preprocess_data(tokenizer, test_reviews, maxlen=maxlen)\n",
        "\n",
        "    test_predictions = model.predict(test_reviews)\n",
        "    test_ratings = np.argmax(np.array(test_predictions), axis=1) + 1\n",
        "    print(tabulate.tabulate(np.round(test_predictions, 3), headers=['Rating-1', 'Rating-2', 'Rating-3', 'Rating-4', 'Rating-5']))\n",
        "    str = f\"\\nPredicted Rating: {test_ratings}\"\n",
        "    return str"
      ],
      "execution_count": 39,
      "outputs": []
    },
    {
      "cell_type": "code",
      "metadata": {
        "cellView": "form",
        "colab": {
          "base_uri": "https://localhost:8080/"
        },
        "id": "CyBP9u4BekdM",
        "outputId": "dbfb4350-32d8-4ab1-a30d-8690fdbf3ad2"
      },
      "source": [
        "#@title Predict\n",
        "InputText = 'wow, the product is horrible' #@param {type: 'string'}\n",
        "output = predict_rating(InputText)\n",
        "\n",
        "print(output)\n"
      ],
      "execution_count": 58,
      "outputs": [
        {
          "output_type": "stream",
          "text": [
            "  Rating-1    Rating-2    Rating-3    Rating-4    Rating-5\n",
            "----------  ----------  ----------  ----------  ----------\n",
            "     0.883       0.048       0.024       0.006       0.039\n",
            "\n",
            "Predicted Rating: [1]\n"
          ],
          "name": "stdout"
        }
      ]
    }
  ]
}